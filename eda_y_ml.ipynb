{
 "cells": [
  {
   "attachments": {},
   "cell_type": "markdown",
   "metadata": {},
   "source": [
    "# Proyecto individual, segunda parte: EDA Y ML. "
   ]
  },
  {
   "cell_type": "code",
<<<<<<< HEAD
   "execution_count": 2,
=======
   "execution_count": 550,
>>>>>>> 6f446ddb793a01653ede1276353d258697b7652f
   "metadata": {},
   "outputs": [],
   "source": [
    "#Importacion de librerias\n",
    "%matplotlib inline\n",
    "import numpy as np\n",
    "import pandas as pd\n",
    "import matplotlib.pyplot as plt \n",
    "import seaborn as sns\n",
    "from scipy import stats\n",
    "from scipy.stats import skew\n",
    "from math import sqrt\n",
    "from numpy import mean, var\n",
    "from sklearn import preprocessing\n",
    "import ast\n"
   ]
  },
  {
   "cell_type": "code",
<<<<<<< HEAD
   "execution_count": 3,
=======
   "execution_count": 551,
>>>>>>> 6f446ddb793a01653ede1276353d258697b7652f
   "metadata": {},
   "outputs": [
    {
     "name": "stderr",
     "output_type": "stream",
     "text": [
<<<<<<< HEAD
      "C:\\Users\\agusv\\AppData\\Local\\Temp\\ipykernel_16920\\412972635.py:2: DtypeWarning: Columns (10) have mixed types. Specify dtype option on import or set low_memory=False.\n",
=======
      "C:\\Users\\agusv\\AppData\\Local\\Temp\\ipykernel_3288\\412972635.py:2: DtypeWarning: Columns (10) have mixed types. Specify dtype option on import or set low_memory=False.\n",
>>>>>>> 6f446ddb793a01653ede1276353d258697b7652f
      "  df=pd.read_csv('movies_dataset.csv')\n"
     ]
    }
   ],
   "source": [
    "#Leemos el archivo csv como df\n",
    "df=pd.read_csv('movies_dataset.csv') \n"
   ]
  },
  {
   "cell_type": "code",
<<<<<<< HEAD
   "execution_count": 4,
=======
   "execution_count": 552,
>>>>>>> 6f446ddb793a01653ede1276353d258697b7652f
   "metadata": {},
   "outputs": [
    {
     "data": {
      "text/plain": [
       "Index(['belongs_to_collection', 'budget', 'genres', 'id', 'original_language',\n",
       "       'overview', 'popularity', 'production_companies',\n",
       "       'production_countries', 'release_date', 'revenue', 'runtime',\n",
       "       'spoken_languages', 'status', 'tagline', 'title', 'vote_average'],\n",
       "      dtype='object')"
      ]
     },
<<<<<<< HEAD
     "execution_count": 4,
=======
     "execution_count": 552,
>>>>>>> 6f446ddb793a01653ede1276353d258697b7652f
     "metadata": {},
     "output_type": "execute_result"
    }
   ],
   "source": [
    "df.drop(columns=['video', 'imdb_id', 'adult', 'original_title', 'vote_count', 'poster_path', 'homepage'], inplace = True)\n",
    "df.columns"
   ]
  },
  {
   "cell_type": "code",
<<<<<<< HEAD
   "execution_count": 5,
=======
   "execution_count": 553,
>>>>>>> 6f446ddb793a01653ede1276353d258697b7652f
   "metadata": {},
   "outputs": [
    {
     "data": {
      "text/html": [
       "<div>\n",
       "<style scoped>\n",
       "    .dataframe tbody tr th:only-of-type {\n",
       "        vertical-align: middle;\n",
       "    }\n",
       "\n",
       "    .dataframe tbody tr th {\n",
       "        vertical-align: top;\n",
       "    }\n",
       "\n",
       "    .dataframe thead th {\n",
       "        text-align: right;\n",
       "    }\n",
       "</style>\n",
       "<table border=\"1\" class=\"dataframe\">\n",
       "  <thead>\n",
       "    <tr style=\"text-align: right;\">\n",
       "      <th></th>\n",
       "      <th>belongs_to_collection</th>\n",
       "      <th>budget</th>\n",
       "      <th>genres</th>\n",
       "      <th>id</th>\n",
       "      <th>original_language</th>\n",
       "      <th>overview</th>\n",
       "      <th>popularity</th>\n",
       "      <th>production_companies</th>\n",
       "      <th>production_countries</th>\n",
       "      <th>release_date</th>\n",
       "      <th>revenue</th>\n",
       "      <th>runtime</th>\n",
       "      <th>spoken_languages</th>\n",
       "      <th>status</th>\n",
       "      <th>tagline</th>\n",
       "      <th>title</th>\n",
       "      <th>vote_average</th>\n",
       "    </tr>\n",
       "  </thead>\n",
       "  <tbody>\n",
       "    <tr>\n",
       "      <th>0</th>\n",
       "      <td>{'id': 10194, 'name': 'Toy Story Collection', ...</td>\n",
       "      <td>30000000</td>\n",
       "      <td>[{'id': 16, 'name': 'Animation'}, {'id': 35, '...</td>\n",
       "      <td>862</td>\n",
       "      <td>en</td>\n",
       "      <td>Led by Woody, Andy's toys live happily in his ...</td>\n",
       "      <td>21.946943</td>\n",
       "      <td>[{'name': 'Pixar Animation Studios', 'id': 3}]</td>\n",
       "      <td>[{'iso_3166_1': 'US', 'name': 'United States o...</td>\n",
       "      <td>1995-10-30</td>\n",
       "      <td>373554033.0</td>\n",
       "      <td>81.0</td>\n",
       "      <td>[{'iso_639_1': 'en', 'name': 'English'}]</td>\n",
       "      <td>Released</td>\n",
       "      <td>NaN</td>\n",
       "      <td>Toy Story</td>\n",
       "      <td>7.7</td>\n",
       "    </tr>\n",
       "  </tbody>\n",
       "</table>\n",
       "</div>"
      ],
      "text/plain": [
       "                               belongs_to_collection    budget  \\\n",
       "0  {'id': 10194, 'name': 'Toy Story Collection', ...  30000000   \n",
       "\n",
       "                                              genres   id original_language  \\\n",
       "0  [{'id': 16, 'name': 'Animation'}, {'id': 35, '...  862                en   \n",
       "\n",
       "                                            overview popularity  \\\n",
       "0  Led by Woody, Andy's toys live happily in his ...  21.946943   \n",
       "\n",
       "                             production_companies  \\\n",
       "0  [{'name': 'Pixar Animation Studios', 'id': 3}]   \n",
       "\n",
       "                                production_countries release_date  \\\n",
       "0  [{'iso_3166_1': 'US', 'name': 'United States o...   1995-10-30   \n",
       "\n",
       "       revenue  runtime                          spoken_languages    status  \\\n",
       "0  373554033.0     81.0  [{'iso_639_1': 'en', 'name': 'English'}]  Released   \n",
       "\n",
       "  tagline      title  vote_average  \n",
       "0     NaN  Toy Story           7.7  "
      ]
     },
<<<<<<< HEAD
     "execution_count": 5,
=======
     "execution_count": 553,
>>>>>>> 6f446ddb793a01653ede1276353d258697b7652f
     "metadata": {},
     "output_type": "execute_result"
    }
   ],
   "source": [
    "df.head(1)"
   ]
  },
  {
   "attachments": {},
   "cell_type": "markdown",
   "metadata": {},
   "source": [
    "### 4) EDA"
   ]
  },
  {
   "cell_type": "code",
<<<<<<< HEAD
   "execution_count": 6,
=======
   "execution_count": 554,
>>>>>>> 6f446ddb793a01653ede1276353d258697b7652f
   "metadata": {},
   "outputs": [
    {
     "data": {
      "text/html": [
       "<div>\n",
       "<style scoped>\n",
       "    .dataframe tbody tr th:only-of-type {\n",
       "        vertical-align: middle;\n",
       "    }\n",
       "\n",
       "    .dataframe tbody tr th {\n",
       "        vertical-align: top;\n",
       "    }\n",
       "\n",
       "    .dataframe thead th {\n",
       "        text-align: right;\n",
       "    }\n",
       "</style>\n",
       "<table border=\"1\" class=\"dataframe\">\n",
       "  <thead>\n",
       "    <tr style=\"text-align: right;\">\n",
       "      <th></th>\n",
       "      <th>revenue</th>\n",
       "      <th>runtime</th>\n",
       "      <th>vote_average</th>\n",
       "    </tr>\n",
       "  </thead>\n",
       "  <tbody>\n",
       "    <tr>\n",
       "      <th>count</th>\n",
       "      <td>4.546000e+04</td>\n",
       "      <td>45203.000000</td>\n",
       "      <td>45460.000000</td>\n",
       "    </tr>\n",
       "    <tr>\n",
       "      <th>mean</th>\n",
       "      <td>1.120935e+07</td>\n",
       "      <td>94.128199</td>\n",
       "      <td>5.618207</td>\n",
       "    </tr>\n",
       "    <tr>\n",
       "      <th>std</th>\n",
       "      <td>6.433225e+07</td>\n",
       "      <td>38.407810</td>\n",
       "      <td>1.924216</td>\n",
       "    </tr>\n",
       "    <tr>\n",
       "      <th>min</th>\n",
       "      <td>0.000000e+00</td>\n",
       "      <td>0.000000</td>\n",
       "      <td>0.000000</td>\n",
       "    </tr>\n",
       "    <tr>\n",
       "      <th>25%</th>\n",
       "      <td>0.000000e+00</td>\n",
       "      <td>85.000000</td>\n",
       "      <td>5.000000</td>\n",
       "    </tr>\n",
       "    <tr>\n",
       "      <th>50%</th>\n",
       "      <td>0.000000e+00</td>\n",
       "      <td>95.000000</td>\n",
       "      <td>6.000000</td>\n",
       "    </tr>\n",
       "    <tr>\n",
       "      <th>75%</th>\n",
       "      <td>0.000000e+00</td>\n",
       "      <td>107.000000</td>\n",
       "      <td>6.800000</td>\n",
       "    </tr>\n",
       "    <tr>\n",
       "      <th>max</th>\n",
       "      <td>2.787965e+09</td>\n",
       "      <td>1256.000000</td>\n",
       "      <td>10.000000</td>\n",
       "    </tr>\n",
       "  </tbody>\n",
       "</table>\n",
       "</div>"
      ],
      "text/plain": [
       "            revenue       runtime  vote_average\n",
       "count  4.546000e+04  45203.000000  45460.000000\n",
       "mean   1.120935e+07     94.128199      5.618207\n",
       "std    6.433225e+07     38.407810      1.924216\n",
       "min    0.000000e+00      0.000000      0.000000\n",
       "25%    0.000000e+00     85.000000      5.000000\n",
       "50%    0.000000e+00     95.000000      6.000000\n",
       "75%    0.000000e+00    107.000000      6.800000\n",
       "max    2.787965e+09   1256.000000     10.000000"
      ]
     },
<<<<<<< HEAD
     "execution_count": 6,
=======
     "execution_count": 554,
>>>>>>> 6f446ddb793a01653ede1276353d258697b7652f
     "metadata": {},
     "output_type": "execute_result"
    }
   ],
   "source": [
    "# Resumen estadistico de las columnas numericas\n",
    "df.describe()"
   ]
  },
  {
   "cell_type": "code",
<<<<<<< HEAD
   "execution_count": 7,
=======
   "execution_count": 555,
>>>>>>> 6f446ddb793a01653ede1276353d258697b7652f
   "metadata": {},
   "outputs": [
    {
     "data": {
      "text/html": [
       "<div>\n",
       "<style scoped>\n",
       "    .dataframe tbody tr th:only-of-type {\n",
       "        vertical-align: middle;\n",
       "    }\n",
       "\n",
       "    .dataframe tbody tr th {\n",
       "        vertical-align: top;\n",
       "    }\n",
       "\n",
       "    .dataframe thead th {\n",
       "        text-align: right;\n",
       "    }\n",
       "</style>\n",
       "<table border=\"1\" class=\"dataframe\">\n",
       "  <thead>\n",
       "    <tr style=\"text-align: right;\">\n",
       "      <th></th>\n",
       "      <th>belongs_to_collection</th>\n",
       "      <th>budget</th>\n",
       "      <th>genres</th>\n",
       "      <th>id</th>\n",
       "      <th>original_language</th>\n",
       "      <th>overview</th>\n",
       "      <th>popularity</th>\n",
       "      <th>production_companies</th>\n",
       "      <th>production_countries</th>\n",
       "      <th>release_date</th>\n",
       "      <th>spoken_languages</th>\n",
       "      <th>status</th>\n",
       "      <th>tagline</th>\n",
       "      <th>title</th>\n",
       "    </tr>\n",
       "  </thead>\n",
       "  <tbody>\n",
       "    <tr>\n",
       "      <th>count</th>\n",
       "      <td>4494</td>\n",
       "      <td>45466</td>\n",
       "      <td>45466</td>\n",
       "      <td>45466</td>\n",
       "      <td>45455</td>\n",
       "      <td>44512</td>\n",
       "      <td>45461</td>\n",
       "      <td>45463</td>\n",
       "      <td>45463</td>\n",
       "      <td>45379</td>\n",
       "      <td>45460</td>\n",
       "      <td>45379</td>\n",
       "      <td>20412</td>\n",
       "      <td>45460</td>\n",
       "    </tr>\n",
       "    <tr>\n",
       "      <th>unique</th>\n",
       "      <td>1698</td>\n",
       "      <td>1226</td>\n",
       "      <td>4069</td>\n",
       "      <td>45436</td>\n",
       "      <td>92</td>\n",
       "      <td>44307</td>\n",
       "      <td>44176</td>\n",
       "      <td>22708</td>\n",
       "      <td>2393</td>\n",
       "      <td>17336</td>\n",
       "      <td>1931</td>\n",
       "      <td>6</td>\n",
       "      <td>20283</td>\n",
       "      <td>42277</td>\n",
       "    </tr>\n",
       "    <tr>\n",
       "      <th>top</th>\n",
       "      <td>{'id': 415931, 'name': 'The Bowery Boys', 'pos...</td>\n",
       "      <td>0</td>\n",
       "      <td>[{'id': 18, 'name': 'Drama'}]</td>\n",
       "      <td>141971</td>\n",
       "      <td>en</td>\n",
       "      <td>No overview found.</td>\n",
       "      <td>0.0</td>\n",
       "      <td>[]</td>\n",
       "      <td>[{'iso_3166_1': 'US', 'name': 'United States o...</td>\n",
       "      <td>2008-01-01</td>\n",
       "      <td>[{'iso_639_1': 'en', 'name': 'English'}]</td>\n",
       "      <td>Released</td>\n",
       "      <td>Based on a true story.</td>\n",
       "      <td>Cinderella</td>\n",
       "    </tr>\n",
       "    <tr>\n",
       "      <th>freq</th>\n",
       "      <td>29</td>\n",
       "      <td>36573</td>\n",
       "      <td>5000</td>\n",
       "      <td>3</td>\n",
       "      <td>32269</td>\n",
       "      <td>133</td>\n",
       "      <td>34</td>\n",
       "      <td>11875</td>\n",
       "      <td>17851</td>\n",
       "      <td>136</td>\n",
       "      <td>22395</td>\n",
       "      <td>45014</td>\n",
       "      <td>7</td>\n",
       "      <td>11</td>\n",
       "    </tr>\n",
       "  </tbody>\n",
       "</table>\n",
       "</div>"
      ],
      "text/plain": [
       "                                    belongs_to_collection budget  \\\n",
       "count                                                4494  45466   \n",
       "unique                                               1698   1226   \n",
       "top     {'id': 415931, 'name': 'The Bowery Boys', 'pos...      0   \n",
       "freq                                                   29  36573   \n",
       "\n",
       "                               genres      id original_language  \\\n",
       "count                           45466   45466             45455   \n",
       "unique                           4069   45436                92   \n",
       "top     [{'id': 18, 'name': 'Drama'}]  141971                en   \n",
       "freq                             5000       3             32269   \n",
       "\n",
       "                  overview popularity production_companies  \\\n",
       "count                44512      45461                45463   \n",
       "unique               44307      44176                22708   \n",
       "top     No overview found.        0.0                   []   \n",
       "freq                   133         34                11875   \n",
       "\n",
       "                                     production_countries release_date  \\\n",
       "count                                               45463        45379   \n",
       "unique                                               2393        17336   \n",
       "top     [{'iso_3166_1': 'US', 'name': 'United States o...   2008-01-01   \n",
       "freq                                                17851          136   \n",
       "\n",
       "                                spoken_languages    status  \\\n",
       "count                                      45460     45379   \n",
       "unique                                      1931         6   \n",
       "top     [{'iso_639_1': 'en', 'name': 'English'}]  Released   \n",
       "freq                                       22395     45014   \n",
       "\n",
       "                       tagline       title  \n",
       "count                    20412       45460  \n",
       "unique                   20283       42277  \n",
       "top     Based on a true story.  Cinderella  \n",
       "freq                         7          11  "
      ]
     },
<<<<<<< HEAD
     "execution_count": 7,
=======
     "execution_count": 555,
>>>>>>> 6f446ddb793a01653ede1276353d258697b7652f
     "metadata": {},
     "output_type": "execute_result"
    }
   ],
   "source": [
    "# Resumen de las columnas no numericas \n",
    "df.describe(include=['O'])"
   ]
  },
  {
   "cell_type": "code",
<<<<<<< HEAD
   "execution_count": 8,
=======
   "execution_count": 558,
>>>>>>> 6f446ddb793a01653ede1276353d258697b7652f
   "metadata": {},
   "outputs": [],
   "source": [
    "# Convertimos la columna 'genres' de string a lista de diccionarios\n",
    "df['genres'] = df['genres'].apply(ast.literal_eval)\n",
    "# Extraemos el nombre de cada genero y cramos una nueva columna con la lista de nombres de generos\n",
    "df['genre_names'] = df['genres'].apply(lambda x: [d['name'] for d in x])\n",
    "# Expandimos la lista de nombres de géneros\n",
    "generos_expandidos = df['genre_names'].explode()\n",
    "# Contamos la frecuencia de cada valor en la columna 'genre_names'\n",
    "conteo_generos = generos_expandidos.value_counts()\n",
    "# Eliminamos los géneros que solo aparecen una vez\n",
    "conteo_generos = conteo_generos[conteo_generos > 1]"
   ]
  },
  {
   "cell_type": "code",
<<<<<<< HEAD
   "execution_count": 9,
=======
   "execution_count": 559,
>>>>>>> 6f446ddb793a01653ede1276353d258697b7652f
   "metadata": {},
   "outputs": [
    {
     "data": {
      "image/png": "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",
      "text/plain": [
       "<Figure size 1000x600 with 1 Axes>"
      ]
     },
     "metadata": {},
     "output_type": "display_data"
    }
   ],
   "source": [
    "# Grafico para ver la cantidad de peliculas por genero\n",
    "conteo_generos = conteo_generos.sort_values()  # Ordenamos los géneros por cantidad de películas\n",
    "\n",
    "plt.figure(figsize=(10,6)) \n",
    "conteo_generos.plot(kind='barh')  # Creamos un gráfico de barras horizontales\n",
    "plt.title('Cantidad de películas por género')  # Añadimos un título al gráfico\n",
    "plt.xlabel('Cantidad de películas')  # Añadimos un título al eje x\n",
    "plt.ylabel('Género')  # Añadimos un título al eje y\n",
    "plt.show()  # Mostramos el gráfico"
   ]
  },
  {
   "cell_type": "code",
<<<<<<< HEAD
   "execution_count": 10,
=======
   "execution_count": 560,
>>>>>>> 6f446ddb793a01653ede1276353d258697b7652f
   "metadata": {},
   "outputs": [
    {
     "data": {
      "text/html": [
       "<div>\n",
       "<style scoped>\n",
       "    .dataframe tbody tr th:only-of-type {\n",
       "        vertical-align: middle;\n",
       "    }\n",
       "\n",
       "    .dataframe tbody tr th {\n",
       "        vertical-align: top;\n",
       "    }\n",
       "\n",
       "    .dataframe thead th {\n",
       "        text-align: right;\n",
       "    }\n",
       "</style>\n",
       "<table border=\"1\" class=\"dataframe\">\n",
       "  <thead>\n",
       "    <tr style=\"text-align: right;\">\n",
       "      <th></th>\n",
       "      <th>genre_names</th>\n",
       "    </tr>\n",
       "  </thead>\n",
       "  <tbody>\n",
       "    <tr>\n",
       "      <th>0</th>\n",
       "      <td>[Animation, Comedy, Family]</td>\n",
       "    </tr>\n",
       "    <tr>\n",
       "      <th>1</th>\n",
       "      <td>[Adventure, Fantasy, Family]</td>\n",
       "    </tr>\n",
       "    <tr>\n",
       "      <th>2</th>\n",
       "      <td>[Romance, Comedy]</td>\n",
       "    </tr>\n",
       "    <tr>\n",
       "      <th>3</th>\n",
       "      <td>[Comedy, Drama, Romance]</td>\n",
       "    </tr>\n",
       "    <tr>\n",
       "      <th>4</th>\n",
       "      <td>[Comedy]</td>\n",
       "    </tr>\n",
       "    <tr>\n",
       "      <th>...</th>\n",
       "      <td>...</td>\n",
       "    </tr>\n",
       "    <tr>\n",
       "      <th>45461</th>\n",
       "      <td>[Drama, Family]</td>\n",
       "    </tr>\n",
       "    <tr>\n",
       "      <th>45462</th>\n",
       "      <td>[Drama]</td>\n",
       "    </tr>\n",
       "    <tr>\n",
       "      <th>45463</th>\n",
       "      <td>[Action, Drama, Thriller]</td>\n",
       "    </tr>\n",
       "    <tr>\n",
       "      <th>45464</th>\n",
       "      <td>[]</td>\n",
       "    </tr>\n",
       "    <tr>\n",
       "      <th>45465</th>\n",
       "      <td>[]</td>\n",
       "    </tr>\n",
       "  </tbody>\n",
       "</table>\n",
       "<p>45466 rows × 1 columns</p>\n",
       "</div>"
      ],
      "text/plain": [
       "                        genre_names\n",
       "0       [Animation, Comedy, Family]\n",
       "1      [Adventure, Fantasy, Family]\n",
       "2                 [Romance, Comedy]\n",
       "3          [Comedy, Drama, Romance]\n",
       "4                          [Comedy]\n",
       "...                             ...\n",
       "45461               [Drama, Family]\n",
       "45462                       [Drama]\n",
       "45463     [Action, Drama, Thriller]\n",
       "45464                            []\n",
       "45465                            []\n",
       "\n",
       "[45466 rows x 1 columns]"
      ]
     },
<<<<<<< HEAD
     "execution_count": 10,
=======
     "execution_count": 560,
>>>>>>> 6f446ddb793a01653ede1276353d258697b7652f
     "metadata": {},
     "output_type": "execute_result"
    }
   ],
   "source": [
    "df[[\"genre_names\"]]"
   ]
  },
  {
   "cell_type": "code",
<<<<<<< HEAD
   "execution_count": 11,
=======
   "execution_count": 561,
>>>>>>> 6f446ddb793a01653ede1276353d258697b7652f
   "metadata": {},
   "outputs": [
    {
     "data": {
      "text/plain": [
       "(45466, 18)"
      ]
     },
<<<<<<< HEAD
     "execution_count": 11,
=======
     "execution_count": 561,
>>>>>>> 6f446ddb793a01653ede1276353d258697b7652f
     "metadata": {},
     "output_type": "execute_result"
    }
   ],
   "source": [
    "df.shape"
   ]
  },
  {
   "cell_type": "code",
<<<<<<< HEAD
   "execution_count": 12,
=======
   "execution_count": 562,
>>>>>>> 6f446ddb793a01653ede1276353d258697b7652f
   "metadata": {},
   "outputs": [
    {
     "data": {
      "image/png": "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",
      "text/plain": [
       "<Figure size 640x480 with 1 Axes>"
      ]
     },
     "metadata": {},
     "output_type": "display_data"
    }
   ],
   "source": [
    "# Duracion de las peliculas\n",
    "df_filtered = df[(df['runtime'] >= 50) & (df['runtime'] <= 380)]\n",
    "\n",
    "df_filtered['runtime'].plot(kind='hist', rwidth=0.8, bins=30)\n",
    "\n",
    "plt.title('Duración de las películas')\n",
    "plt.xlabel('Duración (minutos)')\n",
    "plt.ylabel('Cantidad de películas')\n",
    "\n",
    "plt.show()"
   ]
  },
  {
<<<<<<< HEAD
   "cell_type": "code",
   "execution_count": 13,
   "metadata": {},
   "outputs": [
    {
     "data": {
      "text/html": [
       "<div>\n",
       "<style scoped>\n",
       "    .dataframe tbody tr th:only-of-type {\n",
       "        vertical-align: middle;\n",
       "    }\n",
       "\n",
       "    .dataframe tbody tr th {\n",
       "        vertical-align: top;\n",
       "    }\n",
       "\n",
       "    .dataframe thead th {\n",
       "        text-align: right;\n",
       "    }\n",
       "</style>\n",
       "<table border=\"1\" class=\"dataframe\">\n",
       "  <thead>\n",
       "    <tr style=\"text-align: right;\">\n",
       "      <th></th>\n",
       "      <th>release_date</th>\n",
       "      <th>release_year</th>\n",
       "    </tr>\n",
       "  </thead>\n",
       "  <tbody>\n",
       "    <tr>\n",
       "      <th>45455</th>\n",
       "      <td>1972-01-01</td>\n",
       "      <td>1972</td>\n",
       "    </tr>\n",
       "    <tr>\n",
       "      <th>45456</th>\n",
       "      <td>1946-03-29</td>\n",
       "      <td>1946</td>\n",
       "    </tr>\n",
       "    <tr>\n",
       "      <th>45457</th>\n",
       "      <td>2000-10-22</td>\n",
       "      <td>2000</td>\n",
       "    </tr>\n",
       "    <tr>\n",
       "      <th>45458</th>\n",
       "      <td>2000-10-03</td>\n",
       "      <td>2000</td>\n",
       "    </tr>\n",
       "    <tr>\n",
       "      <th>45459</th>\n",
       "      <td>1995-01-01</td>\n",
       "      <td>1995</td>\n",
       "    </tr>\n",
       "    <tr>\n",
       "      <th>45460</th>\n",
       "      <td>1991-05-13</td>\n",
       "      <td>1991</td>\n",
       "    </tr>\n",
       "    <tr>\n",
       "      <th>45462</th>\n",
       "      <td>2011-11-17</td>\n",
       "      <td>2011</td>\n",
       "    </tr>\n",
       "    <tr>\n",
       "      <th>45463</th>\n",
       "      <td>2003-08-01</td>\n",
       "      <td>2003</td>\n",
       "    </tr>\n",
       "    <tr>\n",
       "      <th>45464</th>\n",
       "      <td>1917-10-21</td>\n",
       "      <td>1917</td>\n",
       "    </tr>\n",
       "    <tr>\n",
       "      <th>45465</th>\n",
       "      <td>2017-06-09</td>\n",
       "      <td>2017</td>\n",
       "    </tr>\n",
       "  </tbody>\n",
       "</table>\n",
       "</div>"
      ],
      "text/plain": [
       "      release_date  release_year\n",
       "45455   1972-01-01          1972\n",
       "45456   1946-03-29          1946\n",
       "45457   2000-10-22          2000\n",
       "45458   2000-10-03          2000\n",
       "45459   1995-01-01          1995\n",
       "45460   1991-05-13          1991\n",
       "45462   2011-11-17          2011\n",
       "45463   2003-08-01          2003\n",
       "45464   1917-10-21          1917\n",
       "45465   2017-06-09          2017"
      ]
     },
     "execution_count": 13,
     "metadata": {},
     "output_type": "execute_result"
    }
   ],
   "source": [
    "# De haber fechas, deberán tener el formato AAAA-mm-dd, además deberán crear la columna release_year donde extraerán el año de la fecha de \n",
    "# estreno.\n",
    "# Le damos el formato de fecha a todos los valores de la columna y los que no, le asignamos la etiqueta de nulo\n",
    "df['release_date'] = pd.to_datetime(df['release_date'], errors='coerce')\n",
    "\n",
    "# Se asegura que todos los registros tengan el mismo formato de fecha AAAA-MM-DD\n",
    "df['release_date'] = pd.to_datetime(df['release_date']).dt.strftime('%Y-%m-%d')\n",
    "\n",
    "# se identifican la cantidad de datos nulos de la columna 'release_date' \n",
    "df['release_date'].isnull().sum()\n",
    "# eliminamos los registros con nulos \n",
    "df = df.dropna(subset = ['release_date'])\n",
    "\n",
    "# controlamos para verificar que no existan nulos\n",
    "df['release_date'].isnull().sum()\n",
    "# creamos una nueva columna 'release_year' que va a contener unicamnete el dato de año de la columna 'release_date' \n",
    "df['release_date'] = pd.to_datetime(df['release_date'])\n",
    "df['release_year']=df['release_date'].dt.year\n",
    "\n",
    "# hacemos control sobre los cambios\n",
    "df[['release_date','release_year']].tail(10)"
   ]
  },
  {
   "cell_type": "code",
   "execution_count": 14,
   "metadata": {},
   "outputs": [],
   "source": [
    "df = df[df['release_year'] >= 1978]"
   ]
  },
  {
   "cell_type": "code",
   "execution_count": 15,
   "metadata": {},
   "outputs": [
    {
     "data": {
      "image/png": "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",
      "text/plain": [
       "<Figure size 1200x600 with 1 Axes>"
      ]
     },
     "metadata": {},
     "output_type": "display_data"
    }
   ],
   "source": [
    "movies_per_year = df['release_year'].value_counts().sort_index()\n",
    "plt.figure(figsize=(12, 6))\n",
    "sns.barplot(x=movies_per_year.index, y=movies_per_year.values, color='b')\n",
    "plt.xticks(rotation=45)\n",
    "\n",
    "plt.xlabel('Año')\n",
    "plt.ylabel('Número de películas')\n",
    "plt.title('Número de películas por año')\n",
    "\n",
    "plt.show()"
   ]
  },
  {
=======
>>>>>>> 6f446ddb793a01653ede1276353d258697b7652f
   "attachments": {},
   "cell_type": "markdown",
   "metadata": {},
   "source": [
    "# Machine learning"
   ]
  },
  {
<<<<<<< HEAD
   "attachments": {},
   "cell_type": "markdown",
   "metadata": {},
   "source": [
    "instalamos la libreria nltk ya que proporciona una amplia gama de herramientas y recursos para trabajar con texto y realizar tareas relacionadas con el procesamiento del lenguaje natural"
   ]
  },
  {
   "cell_type": "code",
   "execution_count": 16,
=======
   "cell_type": "code",
   "execution_count": 563,
>>>>>>> 6f446ddb793a01653ede1276353d258697b7652f
   "metadata": {},
   "outputs": [],
   "source": [
    "#pip install nltk"
   ]
  },
  {
   "cell_type": "code",
<<<<<<< HEAD
   "execution_count": 17,
   "metadata": {},
   "outputs": [],
   "source": [
    "# Hay valores flotantes en la columna overview, los convertimos a string\n",
=======
   "execution_count": 564,
   "metadata": {},
   "outputs": [],
   "source": [
    "# Convertir todos los valores en la columna 'overview' a strings\n",
>>>>>>> 6f446ddb793a01653ede1276353d258697b7652f
    "df['overview'] = df['overview'].astype(str)"
   ]
  },
  {
   "cell_type": "code",
<<<<<<< HEAD
   "execution_count": 18,
=======
   "execution_count": 565,
>>>>>>> 6f446ddb793a01653ede1276353d258697b7652f
   "metadata": {},
   "outputs": [],
   "source": [
    "# Concatenamos todas las descripciones de las películas en una sola cadena de texto\n",
<<<<<<< HEAD
    "# Utilizamos astype para asegurarnos de que todos los valores siguen siendo cadenas de texto\n",
    "text = ' '.join(df['overview'].astype(str))\n"
=======
    "# Utilizamos astype para asegurarnos de que todos los valores son cadenas de texto\n",
    "text = ' '.join(df['overview'].astype(str))"
>>>>>>> 6f446ddb793a01653ede1276353d258697b7652f
   ]
  },
  {
   "cell_type": "code",
<<<<<<< HEAD
   "execution_count": 19,
=======
   "execution_count": 566,
>>>>>>> 6f446ddb793a01653ede1276353d258697b7652f
   "metadata": {},
   "outputs": [
    {
     "data": {
      "text/plain": [
<<<<<<< HEAD
       "(34274, 19)"
      ]
     },
     "execution_count": 19,
=======
       "(45466, 18)"
      ]
     },
     "execution_count": 566,
>>>>>>> 6f446ddb793a01653ede1276353d258697b7652f
     "metadata": {},
     "output_type": "execute_result"
    }
   ],
   "source": [
    "df.shape"
   ]
  },
  {
   "cell_type": "code",
<<<<<<< HEAD
   "execution_count": 20,
=======
   "execution_count": 567,
>>>>>>> 6f446ddb793a01653ede1276353d258697b7652f
   "metadata": {},
   "outputs": [
    {
     "data": {
      "text/plain": [
<<<<<<< HEAD
       "(32425, 19)"
      ]
     },
     "execution_count": 20,
=======
       "'import nltk\\nfrom nltk.corpus import stopwords\\nfrom nltk.stem import WordNetLemmatizer\\nfrom collections import Counter\\n\\n# Descarga las stop words de NLTK si aún no lo has hecho\\nnltk.download(\\'stopwords\\')\\nnltk.download(\\'wordnet\\')\\n\\n# Crea el lematizador\\nlemmatizer = WordNetLemmatizer()\\n\\n# Define las stop words \\nstop_words = set(stopwords.words(\\'english\\'))\\n\\n# Crea una lista de palabras, excluyendo las stop words y lematizando\\nwords = [lemmatizer.lemmatize(word) \\n         for word in nltk.word_tokenize(\" \".join(df[\\'overview\\']).lower()) \\n         if word.isalpha() and word not in stop_words]\\n\\n# Imprime las 15 palabras más comunes\\nprint(Counter(words).most_common(15))'"
      ]
     },
     "execution_count": 567,
>>>>>>> 6f446ddb793a01653ede1276353d258697b7652f
     "metadata": {},
     "output_type": "execute_result"
    }
   ],
   "source": [
<<<<<<< HEAD
    "\n",
    "# Eliminamos los duplicados basandonos en la columna 'title'\n",
    "df = df.drop_duplicates(subset='title')\n",
    "\n",
    "# Recreamos el indice de los titulos luego de eliminar los duplicados\n",
    "indices = pd.Series(df.index, index=df['title']).drop_duplicates()\n",
    "\n",
    "\n",
    "# Reducimos la base de datos\n",
    "df.shape"
=======
    "\"\"\"import nltk\n",
    "from nltk.corpus import stopwords\n",
    "from nltk.stem import WordNetLemmatizer\n",
    "from collections import Counter\n",
    "\n",
    "# Descarga las stop words de NLTK si aún no lo has hecho\n",
    "nltk.download('stopwords')\n",
    "nltk.download('wordnet')\n",
    "\n",
    "# Crea el lematizador\n",
    "lemmatizer = WordNetLemmatizer()\n",
    "\n",
    "# Define las stop words \n",
    "stop_words = set(stopwords.words('english'))\n",
    "\n",
    "# Crea una lista de palabras, excluyendo las stop words y lematizando\n",
    "words = [lemmatizer.lemmatize(word) \n",
    "         for word in nltk.word_tokenize(\" \".join(df['overview']).lower()) \n",
    "         if word.isalpha() and word not in stop_words]\n",
    "\n",
    "# Imprime las 15 palabras más comunes\n",
    "print(Counter(words).most_common(15))\"\"\""
>>>>>>> 6f446ddb793a01653ede1276353d258697b7652f
   ]
  },
  {
   "attachments": {},
   "cell_type": "markdown",
   "metadata": {},
   "source": [
<<<<<<< HEAD
    "## Debido a que el dataset contiene muchos registros decidí samplear los datos a través de las columnas 'popularity' y 'vote_average'.\n",
    "Esto lo hago para que en la api, el usuario a la hora de buscar peliculas no reciba un feedback con peliculas menos conocidas. Estas dos columnas permiten recortar el dataset por peloculas con mayor popularidad o con un mayor puntaje de reseña."
=======
    "* 'Life' es la palabra más común, lo que sugiere que muchas películas tratan sobre aspectos de la vida humana.\n",
    "* Palabras como 'one', 'young', 'man', 'woman', 'friend' sugieren temas de desarrollo personal, crecimiento y relaciones interpersonales.\n",
    "* 'Find' y 'get' podrían indicar temas de búsqueda, ya sea literal o figurativamente.\n",
    "* 'Film' y 'story' son palabras esperadas en descripciones de películas.\n",
    "* 'Love', 'family' y 'world' son temas comunes en muchas películas."
>>>>>>> 6f446ddb793a01653ede1276353d258697b7652f
   ]
  },
  {
   "cell_type": "code",
<<<<<<< HEAD
   "execution_count": 21,
   "metadata": {},
   "outputs": [],
   "source": [
    "# Vamos a probar cual de las dos columnas funciona mejor a la hora de hacer recomendaciones\n",
    "# Convertimos las columnas a float\n",
    "df['popularity'] = pd.to_numeric(df['popularity'], errors='coerce')\n",
    "df['vote_average'] = pd.to_numeric(df['vote_average'], errors='coerce')\n",
    "\n",
    "# Ordenamos por popularidad y tomamos las primeras 10000 filas\n",
    "df_popular = df.sort_values(by='popularity', ascending=False).head(10000).reset_index(drop=True)\n",
    "\n",
    "# Ordenamos por vote_average y tomamos las primeras 10000 filas\n",
    "df_highly_rated = df.sort_values(by='vote_average', ascending=False).head(10000).reset_index(drop=True)\n"
   ]
  },
  {
   "cell_type": "code",
   "execution_count": 22,
=======
   "execution_count": 568,
>>>>>>> 6f446ddb793a01653ede1276353d258697b7652f
   "metadata": {},
   "outputs": [
    {
     "data": {
      "text/plain": [
<<<<<<< HEAD
       "(10000, 19)"
      ]
     },
     "execution_count": 22,
=======
       "(42278, 18)"
      ]
     },
     "execution_count": 568,
     "metadata": {},
     "output_type": "execute_result"
    }
   ],
   "source": [
    "\n",
    "# Elimina los duplicados basándote en la columna 'title'\n",
    "df = df.drop_duplicates(subset='title')\n",
    "\n",
    "# Recrea el índice de los títulos luego de eliminar los duplicados\n",
    "indices = pd.Series(df.index, index=df['title']).drop_duplicates()\n",
    "\n",
    "\n",
    "# Ahora puedes trabajar con df_sample que es una versión más pequeña de tus datos\n",
    "df.shape"
   ]
  },
  {
   "cell_type": "code",
   "execution_count": 569,
   "metadata": {},
   "outputs": [],
   "source": [
    "# Convierte las columnas a float\n",
    "df['popularity'] = pd.to_numeric(df['popularity'], errors='coerce')\n",
    "df['vote_average'] = pd.to_numeric(df['vote_average'], errors='coerce')\n",
    "\n",
    "# Ordena por popularidad y toma las primeras 5000 filas\n",
    "df_popular = df.sort_values(by='popularity', ascending=False).head(10000)\n",
    "\n",
    "# Ordena por vote_average y toma las primeras 5000 filas\n",
    "df_highly_rated = df.sort_values(by='vote_average', ascending=False).head(10000)\n"
   ]
  },
  {
   "cell_type": "code",
   "execution_count": 570,
   "metadata": {},
   "outputs": [
    {
     "data": {
      "text/plain": [
       "(10000, 18)"
      ]
     },
     "execution_count": 570,
>>>>>>> 6f446ddb793a01653ede1276353d258697b7652f
     "metadata": {},
     "output_type": "execute_result"
    }
   ],
   "source": [
    "df_popular.shape"
   ]
  },
  {
<<<<<<< HEAD
=======
   "cell_type": "code",
   "execution_count": 571,
   "metadata": {},
   "outputs": [],
   "source": [
    "\n",
    "df_popular = df_popular.sort_values(by='popularity', ascending=False).head(10000).reset_index(drop=True)\n"
   ]
  },
  {
>>>>>>> 6f446ddb793a01653ede1276353d258697b7652f
   "attachments": {},
   "cell_type": "markdown",
   "metadata": {},
   "source": [
    "## Recomendacion de peliculas por popularidad: df_popular"
   ]
  },
  {
   "cell_type": "code",
<<<<<<< HEAD
   "execution_count": 23,
=======
   "execution_count": 572,
>>>>>>> 6f446ddb793a01653ede1276353d258697b7652f
   "metadata": {},
   "outputs": [
    {
     "data": {
      "text/plain": [
       "\"from sklearn.feature_extraction.text import TfidfVectorizer\\nfrom sklearn.metrics.pairwise import cosine_similarity\\nfrom sklearn.feature_extraction.text import HashingVectorizer\\n\\n# Aseguramos que los datos de la columna 'overview' sean strings\\ndf_popular['overview'] = df_popular['overview'].fillna('').astype('str')\\n\\n# Aseguramos que los datos de la columna 'genres' sean strings\\ndf_popular['genres'] = df_popular['genres'].apply(lambda x: ' '.join(map(str, x)) if isinstance(x, list) else '')\\n\\n# Reemplazar los valores NaN con cadenas vacías en la columna 'production_companies'\\ndf_popular['production_companies'] = df_popular['production_companies'].fillna('')\\n\\n# Convertir la columna 'production_companies' a string si es necesario\\ndf_popular['production_companies'] = df_popular['production_companies'].apply(lambda x: ' '.join(map(str, x)) if isinstance(x, list) else x)\\n\\n# Crear una nueva columna combinando las características de interés\\ndf_popular['combined_features'] = df_popular['overview'] + ' ' + df_popular['genres'] + ' ' + df_popular['production_companies']\\n\\n# Convertimos todos los textos a minúsculas para evitar duplicados\\ndf_popular['combined_features'] = df_popular['combined_features'].str.lower()\\n\\n# Inicializamos el HashingVectorizer\\nhash_vectorizer = HashingVectorizer(stop_words='english', n_features=2000)\\n\\n# Transformamos los datos\\nhash_matrix = hash_vectorizer.fit_transform(df_popular['combined_features'])\\n\\n# Calculamos la similitud del coseno\\ncosine_sim = cosine_similarity(hash_matrix)\\n\\n# Creamos un índice con los títulos de las películas\\nindices = pd.Series(df_popular.index, index=df_popular['title']).drop_duplicates()\""
      ]
     },
<<<<<<< HEAD
     "execution_count": 23,
=======
     "execution_count": 572,
>>>>>>> 6f446ddb793a01653ede1276353d258697b7652f
     "metadata": {},
     "output_type": "execute_result"
    }
   ],
   "source": [
    "\"\"\"from sklearn.feature_extraction.text import TfidfVectorizer\n",
    "from sklearn.metrics.pairwise import cosine_similarity\n",
    "from sklearn.feature_extraction.text import HashingVectorizer\n",
    "\n",
    "# Aseguramos que los datos de la columna 'overview' sean strings\n",
    "df_popular['overview'] = df_popular['overview'].fillna('').astype('str')\n",
    "\n",
    "# Aseguramos que los datos de la columna 'genres' sean strings\n",
    "df_popular['genres'] = df_popular['genres'].apply(lambda x: ' '.join(map(str, x)) if isinstance(x, list) else '')\n",
    "\n",
    "# Reemplazar los valores NaN con cadenas vacías en la columna 'production_companies'\n",
    "df_popular['production_companies'] = df_popular['production_companies'].fillna('')\n",
    "\n",
    "# Convertir la columna 'production_companies' a string si es necesario\n",
    "df_popular['production_companies'] = df_popular['production_companies'].apply(lambda x: ' '.join(map(str, x)) if isinstance(x, list) else x)\n",
    "\n",
    "# Crear una nueva columna combinando las características de interés\n",
    "df_popular['combined_features'] = df_popular['overview'] + ' ' + df_popular['genres'] + ' ' + df_popular['production_companies']\n",
    "\n",
    "# Convertimos todos los textos a minúsculas para evitar duplicados\n",
    "df_popular['combined_features'] = df_popular['combined_features'].str.lower()\n",
    "\n",
    "# Inicializamos el HashingVectorizer\n",
    "hash_vectorizer = HashingVectorizer(stop_words='english', n_features=2000)\n",
    "\n",
    "# Transformamos los datos\n",
    "hash_matrix = hash_vectorizer.fit_transform(df_popular['combined_features'])\n",
    "\n",
    "# Calculamos la similitud del coseno\n",
    "cosine_sim = cosine_similarity(hash_matrix)\n",
    "\n",
    "# Creamos un índice con los títulos de las películas\n",
    "indices = pd.Series(df_popular.index, index=df_popular['title']).drop_duplicates()\"\"\""
   ]
  },
  {
   "cell_type": "code",
<<<<<<< HEAD
   "execution_count": 24,
=======
   "execution_count": 573,
>>>>>>> 6f446ddb793a01653ede1276353d258697b7652f
   "metadata": {},
   "outputs": [
    {
     "data": {
      "text/plain": [
       "'def recomendacion2(title, cosine_sim=cosine_sim):\\n    if title not in df_popular[\\'title\\'].values:\\n        return \\'La película no se encuentra en el conjunto de datos de muestra.\\'\\n    else:\\n        # Obtiene el índice de la película que coincide con el título\\n        idx = indices[title]\\n\\n        # Obtiene las puntuaciones de similitud de todas las películas con la película dada\\n        sim_scores = list(enumerate(cosine_sim[idx]))\\n\\n        # Ordena las películas en función de las puntuaciones de similitud\\n        sim_scores = sorted(sim_scores, key=lambda x: x[1], reverse=True)\\n\\n        # Obtiene las puntuaciones de las 5 películas más similares\\n        sim_scores = sim_scores[1:6]\\n\\n        # Obtiene los índices de las películas\\n        movie_indices = [i[0] for i in sim_scores]\\n\\n        # Devuelve las 5 películas más similares\\n        return df_popular[\\'title\\'].iloc[movie_indices]\\n\\nprint(recomendacion2(\"Toy Story\"))\\nrecomendacion2(\"Jumanji\")\\nprint(recomendacion2(\"Titanic\"))'"
      ]
     },
<<<<<<< HEAD
     "execution_count": 24,
=======
     "execution_count": 573,
>>>>>>> 6f446ddb793a01653ede1276353d258697b7652f
     "metadata": {},
     "output_type": "execute_result"
    }
   ],
   "source": [
    "\"\"\"def recomendacion2(title, cosine_sim=cosine_sim):\n",
    "    if title not in df_popular['title'].values:\n",
    "        return 'La película no se encuentra en el conjunto de datos de muestra.'\n",
    "    else:\n",
    "        # Obtiene el índice de la película que coincide con el título\n",
    "        idx = indices[title]\n",
    "\n",
    "        # Obtiene las puntuaciones de similitud de todas las películas con la película dada\n",
    "        sim_scores = list(enumerate(cosine_sim[idx]))\n",
    "\n",
    "        # Ordena las películas en función de las puntuaciones de similitud\n",
    "        sim_scores = sorted(sim_scores, key=lambda x: x[1], reverse=True)\n",
    "\n",
    "        # Obtiene las puntuaciones de las 5 películas más similares\n",
    "        sim_scores = sim_scores[1:6]\n",
    "\n",
    "        # Obtiene los índices de las películas\n",
    "        movie_indices = [i[0] for i in sim_scores]\n",
    "\n",
    "        # Devuelve las 5 películas más similares\n",
    "        return df_popular['title'].iloc[movie_indices]\n",
    "\n",
    "print(recomendacion2(\"Toy Story\"))\n",
    "recomendacion2(\"Jumanji\")\n",
    "print(recomendacion2(\"Titanic\"))\"\"\""
   ]
  },
  {
   "attachments": {},
   "cell_type": "markdown",
   "metadata": {},
   "source": [
    "## df_popular:\n",
    "* Este DataFrame parece dar recomendaciones más variadas. En algunos casos, las películas recomendadas parecen tener poco en común con la película original (por ejemplo, las recomendaciones para \"Titanic\" y \"Avatar\"). Sin embargo, para \"Toy Story\", las recomendaciones son muy relevantes ya que todas son de la misma franquicia o de cortos relacionados."
   ]
  },
  {
   "attachments": {},
   "cell_type": "markdown",
   "metadata": {},
   "source": [
    "Recomendacion de peliculas por vote_Average"
   ]
  },
  {
   "cell_type": "code",
<<<<<<< HEAD
   "execution_count": 25,
=======
   "execution_count": 574,
   "metadata": {},
   "outputs": [],
   "source": [
    "df_highly_rated = df_highly_rated.sort_values(by='popularity', ascending=False).head(10000).reset_index(drop=True)\n"
   ]
  },
  {
   "cell_type": "code",
   "execution_count": 575,
>>>>>>> 6f446ddb793a01653ede1276353d258697b7652f
   "metadata": {},
   "outputs": [
    {
     "data": {
      "text/plain": [
<<<<<<< HEAD
       "(10000, 19)"
      ]
     },
     "execution_count": 25,
=======
       "(10000, 18)"
      ]
     },
     "execution_count": 575,
>>>>>>> 6f446ddb793a01653ede1276353d258697b7652f
     "metadata": {},
     "output_type": "execute_result"
    }
   ],
   "source": [
    "df_highly_rated.shape"
   ]
  },
  {
   "cell_type": "code",
<<<<<<< HEAD
   "execution_count": 26,
   "metadata": {},
   "outputs": [],
   "source": [
    "# Cosine_similarity es una función que calcula la similitud del coseno. La similitud del coseno es una \n",
    "#metrica utilizada para determinar cuan similares son dos vectores.\n",
    "\n",
    "# HashingVectorizer es una clase que convierte una coleccion de documentos de texto en una matriz de ocurrencias de tokens. \n",
    "from sklearn.metrics.pairwise import cosine_similarity\n",
    "from sklearn.feature_extraction.text import HashingVectorizer\n",
    "\n",
    "# Aseguramos que los datos de la columna 'overview', 'genres' y 'production_companies' sean strings\n",
    "df_highly_rated['overview'] = df_highly_rated['overview'].fillna('').astype('str')\n",
    "df_highly_rated['genres'] = df_highly_rated['genres'].apply(lambda x: ' '.join(map(str, x)) if isinstance(x, list) else '')\n",
    "# Reemplazar los valores nulos con cadenas vacias\n",
    "df_highly_rated['production_companies'] = df_highly_rated['production_companies'].fillna('')\n",
    "df_highly_rated['production_companies'] = df_highly_rated['production_companies'].apply(lambda x: ' '.join(map(str, x)) if isinstance(x, list) else x)\n",
    "\n",
    "# Creamos una nueva columna llamada 'combined_features' que es una combinacion de las columnas 'overview', 'genres' y \n",
    "# 'production_companies'. Esta columna se usara para calcular la similitud entre diferentes peliculas.\n",
    "df_highly_rated['combined_features'] = df_highly_rated['overview'] + ' ' + df_highly_rated['genres'] + ' ' + df_highly_rated['production_companies']\n",
    "\n",
    "# Convertimos todos los textos a minusculas para evitar duplicados\n",
    "df_highly_rated['combined_features'] = df_highly_rated['combined_features'].str.lower()\n",
    "\n",
    "# Inicializamos el HashingVectorizer\n",
    "hash_vectorizer = HashingVectorizer(stop_words='english', n_features=3000)\n",
    "# De esta manera evitamos que las palabras mas comunes afecten a nuestro procesamiento de datos\n",
    "# y evitamos que se generen vectores mas grandes\n",
    "\n",
    "# Aprende el vocabulario de 'combined_features' y transforma 'combined_features' en una matriz de vectores\n",
=======
   "execution_count": 576,
   "metadata": {},
   "outputs": [],
   "source": [
    "from sklearn.feature_extraction.text import TfidfVectorizer\n",
    "from sklearn.metrics.pairwise import cosine_similarity\n",
    "from sklearn.feature_extraction.text import HashingVectorizer\n",
    "\n",
    "# Aseguramos que los datos de la columna 'overview' sean strings\n",
    "df_highly_rated['overview'] = df_highly_rated['overview'].fillna('').astype('str')\n",
    "\n",
    "# Aseguramos que los datos de la columna 'genres' sean strings\n",
    "df_highly_rated['genres'] = df_highly_rated['genres'].apply(lambda x: ' '.join(map(str, x)) if isinstance(x, list) else '')\n",
    "\n",
    "# Reemplazar los valores NaN con cadenas vacías en la columna 'production_companies'\n",
    "df_highly_rated['production_companies'] = df_highly_rated['production_companies'].fillna('')\n",
    "\n",
    "# Convertir la columna 'production_companies' a string si es necesario\n",
    "df_highly_rated['production_companies'] = df_highly_rated['production_companies'].apply(lambda x: ' '.join(map(str, x)) if isinstance(x, list) else x)\n",
    "\n",
    "# Crear una nueva columna combinando las características de interés\n",
    "df_highly_rated['combined_features'] = df_highly_rated['overview'] + ' ' + df_highly_rated['genres'] + ' ' + df_highly_rated['production_companies']\n",
    "\n",
    "# Convertimos todos los textos a minúsculas para evitar duplicados\n",
    "df_highly_rated['combined_features'] = df_highly_rated['combined_features'].str.lower()\n",
    "\n",
    "# Inicializamos el HashingVectorizer\n",
    "hash_vectorizer = HashingVectorizer(stop_words='english', n_features=2000)\n",
    "\n",
    "# Transformamos los datos\n",
>>>>>>> 6f446ddb793a01653ede1276353d258697b7652f
    "hash_matrix = hash_vectorizer.fit_transform(df_highly_rated['combined_features'])\n",
    "\n",
    "# Calculamos la similitud del coseno\n",
    "cosine_sim = cosine_similarity(hash_matrix)\n",
    "\n",
<<<<<<< HEAD
    "# Creamos un indice con los titulos de las peliculas\n",
=======
    "# Creamos un índice con los títulos de las películas\n",
>>>>>>> 6f446ddb793a01653ede1276353d258697b7652f
    "indices = pd.Series(df_highly_rated.index, index=df_highly_rated['title']).drop_duplicates()"
   ]
  },
  {
   "cell_type": "code",
<<<<<<< HEAD
   "execution_count": 27,
   "metadata": {},
   "outputs": [],
   "source": [
    "def recomendacion(title, cosine_sim=cosine_sim):\n",
    "    # Verificamos que el titulo ingresado se encuentre en el df\n",
    "    if title not in df_highly_rated['title'].values:\n",
    "        return 'La pelicula no se encuentra en el conjunto de la base de datos.'\n",
    "    else:\n",
    "        # Si el titulo estan en el df, encontramos su indice\n",
    "        index = indices[title]\n",
    "        # Esto nos da una manera de acceder a la fila correspondiente en la matriz de similitud del coseno.\n",
    "\n",
    "        # Obtenemos las puntuaciones de similitud de todas las peliculas con la pelicula dada\n",
    "        similarity = list(enumerate(cosine_sim[index]))\n",
    "\n",
    "        # Ordenamos las peliculas en funcion de las puntuaciones de similitud\n",
    "        similarity = sorted(similarity, key=lambda x: x[1], reverse=True)\n",
    "\n",
    "        # Obtenemos 5 peliculas mas similares\n",
    "        similarity = similarity[1:6]\n",
    "\n",
    "        # Obtiene los indices de las peliculas\n",
    "        movie_indices = [i[0] for i in similarity]\n",
    "\n",
    "        # Devuelve las 5 peliculas mas similares\n",
    "        return df_highly_rated['title'].iloc[movie_indices].tolist()"
   ]
  },
  {
   "cell_type": "code",
   "execution_count": 28,
   "metadata": {},
   "outputs": [
    {
     "name": "stdout",
     "output_type": "stream",
     "text": [
      "['Toy Story 3', 'Toy Story 2', 'Small Fry', 'Hawaiian Vacation', 'Cheburashka']\n"
     ]
    }
   ],
   "source": [
    "print(recomendacion(\"Toy Story\"))"
   ]
  },
  {
   "cell_type": "code",
   "execution_count": 29,
   "metadata": {},
   "outputs": [
    {
     "name": "stdout",
     "output_type": "stream",
     "text": [
      "['Charlie and the Chocolate Factory', 'Stardust', 'The City of Lost Children', 'Batman: Mystery of the Batwoman', 'Dancer in the Dark']\n"
     ]
    }
   ],
   "source": [
    "print(recomendacion(\"Jumanji\"))"
   ]
  },
  {
   "cell_type": "code",
   "execution_count": 30,
   "metadata": {},
   "outputs": [
    {
     "name": "stdout",
     "output_type": "stream",
     "text": [
      "['X-Men: First Class', 'Rise of the Planet of the Apes', 'X-Men: Days of Future Past', 'The Secret Life of Walter Mitty', 'Kingdom of Heaven']\n"
     ]
    }
   ],
   "source": [
    "print(recomendacion(\"Avatar\"))"
   ]
  },
  {
   "cell_type": "code",
   "execution_count": 31,
   "metadata": {},
   "outputs": [
    {
     "name": "stdout",
     "output_type": "stream",
     "text": [
      "['Room', 'Kingdom of Heaven', 'The Curious Case of Benjamin Button', \"Miller's Crossing\", 'Avatar']\n"
     ]
    }
   ],
   "source": [
=======
   "execution_count": 577,
   "metadata": {},
   "outputs": [
    {
     "name": "stdout",
     "output_type": "stream",
     "text": [
      "205              Toy Story 3\n",
      "190              Toy Story 2\n",
      "700        Hawaiian Vacation\n",
      "9498             Cheburashka\n",
      "9547    Hemo The Magnificent\n",
      "Name: title, dtype: object\n",
      "5275       Princes and Princesses\n",
      "325                      Stardust\n",
      "997     The City of Lost Children\n",
      "840            Dancer in the Dark\n",
      "1386                  Melancholia\n",
      "Name: title, dtype: object\n",
      "6329                X-Men: First Class\n",
      "22      Rise of the Planet of the Apes\n",
      "67          X-Men: Days of Future Past\n",
      "115                    Minority Report\n",
      "11                     The Maze Runner\n",
      "Name: title, dtype: object\n",
      "541                                    Room\n",
      "1882                         Cinderella Man\n",
      "176     The Curious Case of Benjamin Button\n",
      "11                          The Maze Runner\n",
      "5628                      This Is My Affair\n",
      "Name: title, dtype: object\n"
     ]
    }
   ],
   "source": [
    "def recomendacion(title, cosine_sim=cosine_sim):\n",
    "    if title not in df_highly_rated['title'].values:\n",
    "        return 'La película no se encuentra en el conjunto de datos de muestra.'\n",
    "    else:\n",
    "        # Obtiene el índice de la película que coincide con el título\n",
    "        idx = indices[title]\n",
    "\n",
    "        # Obtiene las puntuaciones de similitud de todas las películas con la película dada\n",
    "        sim_scores = list(enumerate(cosine_sim[idx]))\n",
    "\n",
    "        # Ordena las películas en función de las puntuaciones de similitud\n",
    "        sim_scores = sorted(sim_scores, key=lambda x: x[1], reverse=True)\n",
    "\n",
    "        # Obtiene las puntuaciones de las 5 películas más similares\n",
    "        sim_scores = sim_scores[1:6]\n",
    "\n",
    "        # Obtiene los índices de las películas\n",
    "        movie_indices = [i[0] for i in sim_scores]\n",
    "\n",
    "        # Devuelve las 5 películas más similares\n",
    "        return df_highly_rated['title'].iloc[movie_indices]\n",
    "\n",
    "\n",
    "\n",
    "\n",
    "print(recomendacion(\"Toy Story\"))\n",
    "print(recomendacion(\"Jumanji\"))\n",
    "print(recomendacion(\"Avatar\"))\n",
>>>>>>> 6f446ddb793a01653ede1276353d258697b7652f
    "print(recomendacion(\"Titanic\"))"
   ]
  },
  {
<<<<<<< HEAD
   "cell_type": "code",
   "execution_count": 32,
   "metadata": {},
   "outputs": [
    {
     "name": "stdout",
     "output_type": "stream",
     "text": [
      "['Pusher', 'Desperado', 'Maria Full of Grace', 'The Pledge', 'İtirazım Var']\n"
     ]
    }
   ],
   "source": [
    "print(recomendacion(\"Scarface\"))"
   ]
  },
  {
=======
>>>>>>> 6f446ddb793a01653ede1276353d258697b7652f
   "attachments": {},
   "cell_type": "markdown",
   "metadata": {},
   "source": [
    "## df_highly_rated: \n",
    "* Este DataFrame parece dar recomendaciones más consistentes. Las películas recomendadas tienden a ser altamente valoradas y, en algunos casos, parecen compartir similitudes temáticas o de género con la película original (por ejemplo, las recomendaciones para \"Avatar\" y \"Jumanji\")."
   ]
  }
 ],
 "metadata": {
  "kernelspec": {
   "display_name": "Proyecto1-gJG8LYw3",
   "language": "python",
   "name": "python3"
  },
  "language_info": {
   "codemirror_mode": {
    "name": "ipython",
    "version": 3
   },
   "file_extension": ".py",
   "mimetype": "text/x-python",
   "name": "python",
   "nbconvert_exporter": "python",
   "pygments_lexer": "ipython3",
   "version": "3.11.1"
  },
  "orig_nbformat": 4
 },
 "nbformat": 4,
 "nbformat_minor": 2
}
