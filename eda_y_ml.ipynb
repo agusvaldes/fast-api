{
 "cells": [
  {
   "attachments": {},
   "cell_type": "markdown",
   "metadata": {},
   "source": [
    "# Proyecto individual, segunda parte: EDA Y ML. "
   ]
  },
  {
   "cell_type": "code",
   "execution_count": 66,
   "metadata": {},
   "outputs": [],
   "source": [
    "#Importacion de librerias\n",
    "%matplotlib inline\n",
    "import numpy as np\n",
    "import pandas as pd\n",
    "import matplotlib.pyplot as plt \n",
    "import seaborn as sns\n",
    "from scipy import stats\n",
    "from scipy.stats import skew\n",
    "from math import sqrt\n",
    "from numpy import mean, var\n",
    "from sklearn import preprocessing\n",
    "import ast\n",
    "from sklearn.feature_extraction.text import HashingVectorizer\n",
    "from sklearn.metrics.pairwise import cosine_similarity"
   ]
  },
  {
   "cell_type": "code",
   "execution_count": 67,
   "metadata": {},
   "outputs": [
    {
     "name": "stderr",
     "output_type": "stream",
     "text": [
      "C:\\Users\\agusv\\AppData\\Local\\Temp\\ipykernel_5540\\3197377745.py:2: DtypeWarning: Columns (10) have mixed types. Specify dtype option on import or set low_memory=False.\n",
      "  df=pd.read_csv('movies_dataset.csv')\n"
     ]
    },
    {
     "data": {
      "text/html": [
       "<div>\n",
       "<style scoped>\n",
       "    .dataframe tbody tr th:only-of-type {\n",
       "        vertical-align: middle;\n",
       "    }\n",
       "\n",
       "    .dataframe tbody tr th {\n",
       "        vertical-align: top;\n",
       "    }\n",
       "\n",
       "    .dataframe thead th {\n",
       "        text-align: right;\n",
       "    }\n",
       "</style>\n",
       "<table border=\"1\" class=\"dataframe\">\n",
       "  <thead>\n",
       "    <tr style=\"text-align: right;\">\n",
       "      <th></th>\n",
       "      <th>adult</th>\n",
       "      <th>belongs_to_collection</th>\n",
       "      <th>budget</th>\n",
       "      <th>genres</th>\n",
       "      <th>homepage</th>\n",
       "      <th>id</th>\n",
       "      <th>imdb_id</th>\n",
       "      <th>original_language</th>\n",
       "      <th>original_title</th>\n",
       "      <th>overview</th>\n",
       "      <th>...</th>\n",
       "      <th>release_date</th>\n",
       "      <th>revenue</th>\n",
       "      <th>runtime</th>\n",
       "      <th>spoken_languages</th>\n",
       "      <th>status</th>\n",
       "      <th>tagline</th>\n",
       "      <th>title</th>\n",
       "      <th>video</th>\n",
       "      <th>vote_average</th>\n",
       "      <th>vote_count</th>\n",
       "    </tr>\n",
       "  </thead>\n",
       "  <tbody>\n",
       "    <tr>\n",
       "      <th>0</th>\n",
       "      <td>False</td>\n",
       "      <td>{'id': 10194, 'name': 'Toy Story Collection', ...</td>\n",
       "      <td>30000000</td>\n",
       "      <td>[{'id': 16, 'name': 'Animation'}, {'id': 35, '...</td>\n",
       "      <td>http://toystory.disney.com/toy-story</td>\n",
       "      <td>862</td>\n",
       "      <td>tt0114709</td>\n",
       "      <td>en</td>\n",
       "      <td>Toy Story</td>\n",
       "      <td>Led by Woody, Andy's toys live happily in his ...</td>\n",
       "      <td>...</td>\n",
       "      <td>1995-10-30</td>\n",
       "      <td>373554033.0</td>\n",
       "      <td>81.0</td>\n",
       "      <td>[{'iso_639_1': 'en', 'name': 'English'}]</td>\n",
       "      <td>Released</td>\n",
       "      <td>NaN</td>\n",
       "      <td>Toy Story</td>\n",
       "      <td>False</td>\n",
       "      <td>7.7</td>\n",
       "      <td>5415.0</td>\n",
       "    </tr>\n",
       "    <tr>\n",
       "      <th>1</th>\n",
       "      <td>False</td>\n",
       "      <td>NaN</td>\n",
       "      <td>65000000</td>\n",
       "      <td>[{'id': 12, 'name': 'Adventure'}, {'id': 14, '...</td>\n",
       "      <td>NaN</td>\n",
       "      <td>8844</td>\n",
       "      <td>tt0113497</td>\n",
       "      <td>en</td>\n",
       "      <td>Jumanji</td>\n",
       "      <td>When siblings Judy and Peter discover an encha...</td>\n",
       "      <td>...</td>\n",
       "      <td>1995-12-15</td>\n",
       "      <td>262797249.0</td>\n",
       "      <td>104.0</td>\n",
       "      <td>[{'iso_639_1': 'en', 'name': 'English'}, {'iso...</td>\n",
       "      <td>Released</td>\n",
       "      <td>Roll the dice and unleash the excitement!</td>\n",
       "      <td>Jumanji</td>\n",
       "      <td>False</td>\n",
       "      <td>6.9</td>\n",
       "      <td>2413.0</td>\n",
       "    </tr>\n",
       "    <tr>\n",
       "      <th>2</th>\n",
       "      <td>False</td>\n",
       "      <td>{'id': 119050, 'name': 'Grumpy Old Men Collect...</td>\n",
       "      <td>0</td>\n",
       "      <td>[{'id': 10749, 'name': 'Romance'}, {'id': 35, ...</td>\n",
       "      <td>NaN</td>\n",
       "      <td>15602</td>\n",
       "      <td>tt0113228</td>\n",
       "      <td>en</td>\n",
       "      <td>Grumpier Old Men</td>\n",
       "      <td>A family wedding reignites the ancient feud be...</td>\n",
       "      <td>...</td>\n",
       "      <td>1995-12-22</td>\n",
       "      <td>0.0</td>\n",
       "      <td>101.0</td>\n",
       "      <td>[{'iso_639_1': 'en', 'name': 'English'}]</td>\n",
       "      <td>Released</td>\n",
       "      <td>Still Yelling. Still Fighting. Still Ready for...</td>\n",
       "      <td>Grumpier Old Men</td>\n",
       "      <td>False</td>\n",
       "      <td>6.5</td>\n",
       "      <td>92.0</td>\n",
       "    </tr>\n",
       "  </tbody>\n",
       "</table>\n",
       "<p>3 rows × 24 columns</p>\n",
       "</div>"
      ],
      "text/plain": [
       "   adult                              belongs_to_collection    budget  \\\n",
       "0  False  {'id': 10194, 'name': 'Toy Story Collection', ...  30000000   \n",
       "1  False                                                NaN  65000000   \n",
       "2  False  {'id': 119050, 'name': 'Grumpy Old Men Collect...         0   \n",
       "\n",
       "                                              genres  \\\n",
       "0  [{'id': 16, 'name': 'Animation'}, {'id': 35, '...   \n",
       "1  [{'id': 12, 'name': 'Adventure'}, {'id': 14, '...   \n",
       "2  [{'id': 10749, 'name': 'Romance'}, {'id': 35, ...   \n",
       "\n",
       "                               homepage     id    imdb_id original_language  \\\n",
       "0  http://toystory.disney.com/toy-story    862  tt0114709                en   \n",
       "1                                   NaN   8844  tt0113497                en   \n",
       "2                                   NaN  15602  tt0113228                en   \n",
       "\n",
       "     original_title                                           overview  ...  \\\n",
       "0         Toy Story  Led by Woody, Andy's toys live happily in his ...  ...   \n",
       "1           Jumanji  When siblings Judy and Peter discover an encha...  ...   \n",
       "2  Grumpier Old Men  A family wedding reignites the ancient feud be...  ...   \n",
       "\n",
       "  release_date      revenue runtime  \\\n",
       "0   1995-10-30  373554033.0    81.0   \n",
       "1   1995-12-15  262797249.0   104.0   \n",
       "2   1995-12-22          0.0   101.0   \n",
       "\n",
       "                                    spoken_languages    status  \\\n",
       "0           [{'iso_639_1': 'en', 'name': 'English'}]  Released   \n",
       "1  [{'iso_639_1': 'en', 'name': 'English'}, {'iso...  Released   \n",
       "2           [{'iso_639_1': 'en', 'name': 'English'}]  Released   \n",
       "\n",
       "                                             tagline             title  video  \\\n",
       "0                                                NaN         Toy Story  False   \n",
       "1          Roll the dice and unleash the excitement!           Jumanji  False   \n",
       "2  Still Yelling. Still Fighting. Still Ready for...  Grumpier Old Men  False   \n",
       "\n",
       "  vote_average vote_count  \n",
       "0          7.7     5415.0  \n",
       "1          6.9     2413.0  \n",
       "2          6.5       92.0  \n",
       "\n",
       "[3 rows x 24 columns]"
      ]
     },
     "execution_count": 67,
     "metadata": {},
     "output_type": "execute_result"
    }
   ],
   "source": [
    "#Leemos el archivo csv como df\n",
    "df=pd.read_csv('movies_dataset.csv') \n",
    "df.head(3)"
   ]
  },
  {
   "attachments": {},
   "cell_type": "markdown",
   "metadata": {},
   "source": [
    "### 4) EDA"
   ]
  },
  {
   "cell_type": "code",
   "execution_count": 68,
   "metadata": {},
   "outputs": [
    {
     "data": {
      "text/plain": [
       "(45466, 24)"
      ]
     },
     "execution_count": 68,
     "metadata": {},
     "output_type": "execute_result"
    }
   ],
   "source": [
    "# Analizamos estructura del dataset\n",
    "df.shape"
   ]
  },
  {
   "cell_type": "code",
   "execution_count": 69,
   "metadata": {},
   "outputs": [
    {
     "data": {
      "text/plain": [
       "Index(['belongs_to_collection', 'budget', 'genres', 'id', 'original_language',\n",
       "       'overview', 'popularity', 'production_companies',\n",
       "       'production_countries', 'release_date', 'revenue', 'runtime',\n",
       "       'spoken_languages', 'status', 'tagline', 'title', 'vote_average'],\n",
       "      dtype='object')"
      ]
     },
     "execution_count": 69,
     "metadata": {},
     "output_type": "execute_result"
    }
   ],
   "source": [
    "# Eliminos columnas innecesarias\n",
    "df.drop(columns=['video', 'imdb_id', 'adult', 'original_title', 'vote_count', 'poster_path', 'homepage'], inplace = True)\n",
    "df.columns"
   ]
  },
  {
   "cell_type": "code",
   "execution_count": 70,
   "metadata": {},
   "outputs": [
    {
     "data": {
      "text/html": [
       "<div>\n",
       "<style scoped>\n",
       "    .dataframe tbody tr th:only-of-type {\n",
       "        vertical-align: middle;\n",
       "    }\n",
       "\n",
       "    .dataframe tbody tr th {\n",
       "        vertical-align: top;\n",
       "    }\n",
       "\n",
       "    .dataframe thead th {\n",
       "        text-align: right;\n",
       "    }\n",
       "</style>\n",
       "<table border=\"1\" class=\"dataframe\">\n",
       "  <thead>\n",
       "    <tr style=\"text-align: right;\">\n",
       "      <th></th>\n",
       "      <th>revenue</th>\n",
       "      <th>runtime</th>\n",
       "      <th>vote_average</th>\n",
       "    </tr>\n",
       "  </thead>\n",
       "  <tbody>\n",
       "    <tr>\n",
       "      <th>count</th>\n",
       "      <td>4.546000e+04</td>\n",
       "      <td>45203.000000</td>\n",
       "      <td>45460.000000</td>\n",
       "    </tr>\n",
       "    <tr>\n",
       "      <th>mean</th>\n",
       "      <td>1.120935e+07</td>\n",
       "      <td>94.128199</td>\n",
       "      <td>5.618207</td>\n",
       "    </tr>\n",
       "    <tr>\n",
       "      <th>std</th>\n",
       "      <td>6.433225e+07</td>\n",
       "      <td>38.407810</td>\n",
       "      <td>1.924216</td>\n",
       "    </tr>\n",
       "    <tr>\n",
       "      <th>min</th>\n",
       "      <td>0.000000e+00</td>\n",
       "      <td>0.000000</td>\n",
       "      <td>0.000000</td>\n",
       "    </tr>\n",
       "    <tr>\n",
       "      <th>25%</th>\n",
       "      <td>0.000000e+00</td>\n",
       "      <td>85.000000</td>\n",
       "      <td>5.000000</td>\n",
       "    </tr>\n",
       "    <tr>\n",
       "      <th>50%</th>\n",
       "      <td>0.000000e+00</td>\n",
       "      <td>95.000000</td>\n",
       "      <td>6.000000</td>\n",
       "    </tr>\n",
       "    <tr>\n",
       "      <th>75%</th>\n",
       "      <td>0.000000e+00</td>\n",
       "      <td>107.000000</td>\n",
       "      <td>6.800000</td>\n",
       "    </tr>\n",
       "    <tr>\n",
       "      <th>max</th>\n",
       "      <td>2.787965e+09</td>\n",
       "      <td>1256.000000</td>\n",
       "      <td>10.000000</td>\n",
       "    </tr>\n",
       "  </tbody>\n",
       "</table>\n",
       "</div>"
      ],
      "text/plain": [
       "            revenue       runtime  vote_average\n",
       "count  4.546000e+04  45203.000000  45460.000000\n",
       "mean   1.120935e+07     94.128199      5.618207\n",
       "std    6.433225e+07     38.407810      1.924216\n",
       "min    0.000000e+00      0.000000      0.000000\n",
       "25%    0.000000e+00     85.000000      5.000000\n",
       "50%    0.000000e+00     95.000000      6.000000\n",
       "75%    0.000000e+00    107.000000      6.800000\n",
       "max    2.787965e+09   1256.000000     10.000000"
      ]
     },
     "execution_count": 70,
     "metadata": {},
     "output_type": "execute_result"
    }
   ],
   "source": [
    "# Resumen estadistico de las columnas numericas\n",
    "df.describe()"
   ]
  },
  {
   "cell_type": "code",
   "execution_count": 71,
   "metadata": {},
   "outputs": [
    {
     "data": {
      "text/html": [
       "<div>\n",
       "<style scoped>\n",
       "    .dataframe tbody tr th:only-of-type {\n",
       "        vertical-align: middle;\n",
       "    }\n",
       "\n",
       "    .dataframe tbody tr th {\n",
       "        vertical-align: top;\n",
       "    }\n",
       "\n",
       "    .dataframe thead th {\n",
       "        text-align: right;\n",
       "    }\n",
       "</style>\n",
       "<table border=\"1\" class=\"dataframe\">\n",
       "  <thead>\n",
       "    <tr style=\"text-align: right;\">\n",
       "      <th></th>\n",
       "      <th>belongs_to_collection</th>\n",
       "      <th>budget</th>\n",
       "      <th>genres</th>\n",
       "      <th>id</th>\n",
       "      <th>original_language</th>\n",
       "      <th>overview</th>\n",
       "      <th>popularity</th>\n",
       "      <th>production_companies</th>\n",
       "      <th>production_countries</th>\n",
       "      <th>release_date</th>\n",
       "      <th>spoken_languages</th>\n",
       "      <th>status</th>\n",
       "      <th>tagline</th>\n",
       "      <th>title</th>\n",
       "    </tr>\n",
       "  </thead>\n",
       "  <tbody>\n",
       "    <tr>\n",
       "      <th>count</th>\n",
       "      <td>4494</td>\n",
       "      <td>45466</td>\n",
       "      <td>45466</td>\n",
       "      <td>45466</td>\n",
       "      <td>45455</td>\n",
       "      <td>44512</td>\n",
       "      <td>45461</td>\n",
       "      <td>45463</td>\n",
       "      <td>45463</td>\n",
       "      <td>45379</td>\n",
       "      <td>45460</td>\n",
       "      <td>45379</td>\n",
       "      <td>20412</td>\n",
       "      <td>45460</td>\n",
       "    </tr>\n",
       "    <tr>\n",
       "      <th>unique</th>\n",
       "      <td>1698</td>\n",
       "      <td>1226</td>\n",
       "      <td>4069</td>\n",
       "      <td>45436</td>\n",
       "      <td>92</td>\n",
       "      <td>44307</td>\n",
       "      <td>44176</td>\n",
       "      <td>22708</td>\n",
       "      <td>2393</td>\n",
       "      <td>17336</td>\n",
       "      <td>1931</td>\n",
       "      <td>6</td>\n",
       "      <td>20283</td>\n",
       "      <td>42277</td>\n",
       "    </tr>\n",
       "    <tr>\n",
       "      <th>top</th>\n",
       "      <td>{'id': 415931, 'name': 'The Bowery Boys', 'pos...</td>\n",
       "      <td>0</td>\n",
       "      <td>[{'id': 18, 'name': 'Drama'}]</td>\n",
       "      <td>141971</td>\n",
       "      <td>en</td>\n",
       "      <td>No overview found.</td>\n",
       "      <td>0.0</td>\n",
       "      <td>[]</td>\n",
       "      <td>[{'iso_3166_1': 'US', 'name': 'United States o...</td>\n",
       "      <td>2008-01-01</td>\n",
       "      <td>[{'iso_639_1': 'en', 'name': 'English'}]</td>\n",
       "      <td>Released</td>\n",
       "      <td>Based on a true story.</td>\n",
       "      <td>Cinderella</td>\n",
       "    </tr>\n",
       "    <tr>\n",
       "      <th>freq</th>\n",
       "      <td>29</td>\n",
       "      <td>36573</td>\n",
       "      <td>5000</td>\n",
       "      <td>3</td>\n",
       "      <td>32269</td>\n",
       "      <td>133</td>\n",
       "      <td>34</td>\n",
       "      <td>11875</td>\n",
       "      <td>17851</td>\n",
       "      <td>136</td>\n",
       "      <td>22395</td>\n",
       "      <td>45014</td>\n",
       "      <td>7</td>\n",
       "      <td>11</td>\n",
       "    </tr>\n",
       "  </tbody>\n",
       "</table>\n",
       "</div>"
      ],
      "text/plain": [
       "                                    belongs_to_collection budget  \\\n",
       "count                                                4494  45466   \n",
       "unique                                               1698   1226   \n",
       "top     {'id': 415931, 'name': 'The Bowery Boys', 'pos...      0   \n",
       "freq                                                   29  36573   \n",
       "\n",
       "                               genres      id original_language  \\\n",
       "count                           45466   45466             45455   \n",
       "unique                           4069   45436                92   \n",
       "top     [{'id': 18, 'name': 'Drama'}]  141971                en   \n",
       "freq                             5000       3             32269   \n",
       "\n",
       "                  overview popularity production_companies  \\\n",
       "count                44512      45461                45463   \n",
       "unique               44307      44176                22708   \n",
       "top     No overview found.        0.0                   []   \n",
       "freq                   133         34                11875   \n",
       "\n",
       "                                     production_countries release_date  \\\n",
       "count                                               45463        45379   \n",
       "unique                                               2393        17336   \n",
       "top     [{'iso_3166_1': 'US', 'name': 'United States o...   2008-01-01   \n",
       "freq                                                17851          136   \n",
       "\n",
       "                                spoken_languages    status  \\\n",
       "count                                      45460     45379   \n",
       "unique                                      1931         6   \n",
       "top     [{'iso_639_1': 'en', 'name': 'English'}]  Released   \n",
       "freq                                       22395     45014   \n",
       "\n",
       "                       tagline       title  \n",
       "count                    20412       45460  \n",
       "unique                   20283       42277  \n",
       "top     Based on a true story.  Cinderella  \n",
       "freq                         7          11  "
      ]
     },
     "execution_count": 71,
     "metadata": {},
     "output_type": "execute_result"
    }
   ],
   "source": [
    "# Resumen de las columnas no numericas \n",
    "df.describe(include=['O'])"
   ]
  },
  {
   "cell_type": "code",
   "execution_count": 72,
   "metadata": {},
   "outputs": [],
   "source": [
    "# Convertimos la columna 'genres' de string a lista de diccionarios\n",
    "df['genres'] = df['genres'].apply(ast.literal_eval)\n",
    "# Extraemos el nombre de cada genero y cramos una nueva columna con la lista de nombres de generos\n",
    "df['genre_names'] = df['genres'].apply(lambda x: [d['name'] for d in x])\n",
    "# Expandimos la lista de nombres de generos\n",
    "generos_expandidos = df['genre_names'].explode()\n",
    "# Contamos la frecuencia de cada valor en la columna 'genre_names'\n",
    "conteo_generos = generos_expandidos.value_counts()\n",
    "# Eliminamos los generos que solo aparecen una vez\n",
    "conteo_generos = conteo_generos[conteo_generos > 1]"
   ]
  },
  {
   "cell_type": "code",
   "execution_count": 73,
   "metadata": {},
   "outputs": [
    {
     "data": {
      "image/png": "[encoded data removed]",
      "text/plain": [
       "<Figure size 1000x600 with 1 Axes>"
      ]
     },
     "metadata": {},
     "output_type": "display_data"
    }
   ],
   "source": [
    "# Grafico para ver la cantidad de peliculas por genero\n",
    "conteo_generos = conteo_generos.sort_values()  # Ordenamos los generos por cantidad de peliculas\n",
    "\n",
    "plt.figure(figsize=(10,6)) \n",
    "conteo_generos.plot(kind='barh')  # Creamos un grafico de barras horizontales\n",
    "plt.title('Cantidad de películas por género')  # Añadimos un título al gráfico\n",
    "plt.xlabel('Cantidad de películas')  # Añadimos un título al eje x\n",
    "plt.ylabel('Género')  # Añadimos un título al eje y\n",
    "plt.show()  # Mostramos el gráfico"
   ]
  },
  {
   "cell_type": "code",
   "execution_count": 75,
   "metadata": {},
   "outputs": [
    {
     "data": {
      "text/plain": [
       "(45466, 18)"
      ]
     },
     "execution_count": 75,
     "metadata": {},
     "output_type": "execute_result"
    }
   ],
   "source": [
    "df.shape"
   ]
  },
  {
   "cell_type": "code",
   "execution_count": 76,
   "metadata": {},
   "outputs": [
    {
     "data": {
      "image/png": "[encoded data removed]",
      "text/plain": [
       "<Figure size 640x480 with 1 Axes>"
      ]
     },
     "metadata": {},
     "output_type": "display_data"
    }
   ],
   "source": [
    "# Duracion de las peliculas\n",
    "df_filtered = df[(df['runtime'] >= 50) & (df['runtime'] <= 380)]\n",
    "\n",
    "df_filtered['runtime'].plot(kind='hist', rwidth=0.8, bins=30)\n",
    "\n",
    "plt.title('Duración de las películas')\n",
    "plt.xlabel('Duración (minutos)')\n",
    "plt.ylabel('Cantidad de películas')\n",
    "\n",
    "plt.show()"
   ]
  },
  {
   "cell_type": "code",
   "execution_count": 77,
   "metadata": {},
   "outputs": [
    {
     "data": {
      "text/html": [
       "<div>\n",
       "<style scoped>\n",
       "    .dataframe tbody tr th:only-of-type {\n",
       "        vertical-align: middle;\n",
       "    }\n",
       "\n",
       "    .dataframe tbody tr th {\n",
       "        vertical-align: top;\n",
       "    }\n",
       "\n",
       "    .dataframe thead th {\n",
       "        text-align: right;\n",
       "    }\n",
       "</style>\n",
       "<table border=\"1\" class=\"dataframe\">\n",
       "  <thead>\n",
       "    <tr style=\"text-align: right;\">\n",
       "      <th></th>\n",
       "      <th>release_date</th>\n",
       "      <th>release_year</th>\n",
       "    </tr>\n",
       "  </thead>\n",
       "  <tbody>\n",
       "    <tr>\n",
       "      <th>45455</th>\n",
       "      <td>1972-01-01</td>\n",
       "      <td>1972</td>\n",
       "    </tr>\n",
       "    <tr>\n",
       "      <th>45456</th>\n",
       "      <td>1946-03-29</td>\n",
       "      <td>1946</td>\n",
       "    </tr>\n",
       "    <tr>\n",
       "      <th>45457</th>\n",
       "      <td>2000-10-22</td>\n",
       "      <td>2000</td>\n",
       "    </tr>\n",
       "    <tr>\n",
       "      <th>45458</th>\n",
       "      <td>2000-10-03</td>\n",
       "      <td>2000</td>\n",
       "    </tr>\n",
       "    <tr>\n",
       "      <th>45459</th>\n",
       "      <td>1995-01-01</td>\n",
       "      <td>1995</td>\n",
       "    </tr>\n",
       "    <tr>\n",
       "      <th>45460</th>\n",
       "      <td>1991-05-13</td>\n",
       "      <td>1991</td>\n",
       "    </tr>\n",
       "    <tr>\n",
       "      <th>45462</th>\n",
       "      <td>2011-11-17</td>\n",
       "      <td>2011</td>\n",
       "    </tr>\n",
       "    <tr>\n",
       "      <th>45463</th>\n",
       "      <td>2003-08-01</td>\n",
       "      <td>2003</td>\n",
       "    </tr>\n",
       "    <tr>\n",
       "      <th>45464</th>\n",
       "      <td>1917-10-21</td>\n",
       "      <td>1917</td>\n",
       "    </tr>\n",
       "    <tr>\n",
       "      <th>45465</th>\n",
       "      <td>2017-06-09</td>\n",
       "      <td>2017</td>\n",
       "    </tr>\n",
       "  </tbody>\n",
       "</table>\n",
       "</div>"
      ],
      "text/plain": [
       "      release_date  release_year\n",
       "45455   1972-01-01          1972\n",
       "45456   1946-03-29          1946\n",
       "45457   2000-10-22          2000\n",
       "45458   2000-10-03          2000\n",
       "45459   1995-01-01          1995\n",
       "45460   1991-05-13          1991\n",
       "45462   2011-11-17          2011\n",
       "45463   2003-08-01          2003\n",
       "45464   1917-10-21          1917\n",
       "45465   2017-06-09          2017"
      ]
     },
     "execution_count": 77,
     "metadata": {},
     "output_type": "execute_result"
    }
   ],
   "source": [
    "# De haber fechas, deberán tener el formato AAAA-mm-dd, además deberán crear la columna release_year donde extraerán el año de la fecha de \n",
    "# estreno.\n",
    "# Le damos el formato de fecha a todos los valores de la columna y los que no, le asignamos la etiqueta de nulo\n",
    "df['release_date'] = pd.to_datetime(df['release_date'], errors='coerce')\n",
    "\n",
    "# Se asegura que todos los registros tengan el mismo formato de fecha AAAA-MM-DD\n",
    "df['release_date'] = pd.to_datetime(df['release_date']).dt.strftime('%Y-%m-%d')\n",
    "\n",
    "# se identifican la cantidad de datos nulos de la columna 'release_date' \n",
    "df['release_date'].isnull().sum()\n",
    "# eliminamos los registros con nulos \n",
    "df = df.dropna(subset = ['release_date'])\n",
    "\n",
    "# controlamos para verificar que no existan nulos\n",
    "df['release_date'].isnull().sum()\n",
    "# creamos una nueva columna 'release_year' que va a contener unicamnete el dato de año de la columna 'release_date' \n",
    "df['release_date'] = pd.to_datetime(df['release_date'])\n",
    "df['release_year']=df['release_date'].dt.year\n",
    "\n",
    "# hacemos control sobre los cambios\n",
    "df[['release_date','release_year']].tail(10)"
   ]
  },
  {
   "cell_type": "code",
   "execution_count": 78,
   "metadata": {},
   "outputs": [],
   "source": [
    "df = df[df['release_year'] >= 1975]"
   ]
  },
  {
   "cell_type": "code",
   "execution_count": 79,
   "metadata": {},
   "outputs": [
    {
     "data": {
      "image/png": "[encoded data removed]",
      "text/plain": [
       "<Figure size 1200x600 with 1 Axes>"
      ]
     },
     "metadata": {},
     "output_type": "display_data"
    }
   ],
   "source": [
    "movies_per_year = df['release_year'].value_counts().sort_index()\n",
    "plt.figure(figsize=(12, 6))\n",
    "sns.barplot(x=movies_per_year.index, y=movies_per_year.values, color='b')\n",
    "plt.xticks(rotation=50)\n",
    "\n",
    "plt.xlabel('Año')\n",
    "plt.ylabel('Número de películas')\n",
    "plt.title('Número de películas por año')\n",
    "\n",
    "plt.show()"
   ]
  },
  {
   "cell_type": "code",
   "execution_count": 80,
   "metadata": {},
   "outputs": [
    {
     "data": {
      "text/plain": [
       "count    35273.000000\n",
       "mean         5.630899\n",
       "std          1.851149\n",
       "min          0.000000\n",
       "25%          5.000000\n",
       "50%          6.000000\n",
       "75%          6.800000\n",
       "max         10.000000\n",
       "Name: vote_average, dtype: float64"
      ]
     },
     "execution_count": 80,
     "metadata": {},
     "output_type": "execute_result"
    }
   ],
   "source": [
    "# Distribucion de puntaje\n",
    "df.vote_average.describe()"
   ]
  },
  {
   "cell_type": "code",
   "execution_count": 81,
   "metadata": {},
   "outputs": [
    {
     "data": {
      "text/plain": [
       "array([[<Axes: title={'center': 'vote_average'}>]], dtype=object)"
      ]
     },
     "execution_count": 81,
     "metadata": {},
     "output_type": "execute_result"
    },
    {
     "data": {
      "image/png": "[encoded data removed]",
      "text/plain": [
       "<Figure size 640x480 with 1 Axes>"
      ]
     },
     "metadata": {},
     "output_type": "display_data"
    }
   ],
   "source": [
    "# Analizamos la distribución de las puntuaciones de la pelicula\n",
    "\n",
    "df.hist('vote_average')"
   ]
  },
  {
   "attachments": {},
   "cell_type": "markdown",
   "metadata": {},
   "source": [
    "# Machine learning"
   ]
  },
  {
   "attachments": {},
   "cell_type": "markdown",
   "metadata": {},
   "source": [
    "instalamos la libreria nltk ya que proporciona una amplia gama de herramientas y recursos para trabajar con texto y realizar tareas relacionadas con el procesamiento del lenguaje natural"
   ]
  },
  {
   "cell_type": "code",
   "execution_count": 82,
   "metadata": {},
   "outputs": [],
   "source": [
    "#pip install nltk"
   ]
  },
  {
   "attachments": {},
   "cell_type": "markdown",
   "metadata": {},
   "source": [
    "## Usaremos la columna 'overview' del conjunto de datos como la principal caracteristica de entrada para nuestro modelo de Machine Learning.\n",
    " Decidimos usar esta columna porque contiene una descripción detallada de cada película, lo que nos permite capturar una gran cantidad de información sobre el contenido de la película. Creemos que esta información es particularmente útil para hacer recomendaciones de peliculas porque las peliculas que son similares en terminos de su contenido suelen ser más similares entre sí que las peliculas que son similares solo en terminos de características más superficiales, como el género o el director.\n",
    " La columna 'overview' se transformó en una representación de mochila de palabras para poder usarla en nuestro modelo de Machine Learning."
   ]
  },
  {
   "cell_type": "code",
   "execution_count": 83,
   "metadata": {},
   "outputs": [],
   "source": [
    "# Hay valores flotantes en la columna overview, los convertimos a string\n",
    "df['overview'] = df['overview'].astype(str)"
   ]
  },
  {
   "cell_type": "code",
   "execution_count": 84,
   "metadata": {},
   "outputs": [],
   "source": [
    "# Concatenamos todas las descripciones de las películas en una sola cadena de texto\n",
    "# Utilizamos astype para asegurarnos de que todos los valores siguen siendo cadenas de texto\n",
    "text = ' '.join(df['overview'].astype(str))\n"
   ]
  },
  {
   "cell_type": "code",
   "execution_count": 85,
   "metadata": {},
   "outputs": [
    {
     "data": {
      "text/plain": [
       "(35273, 19)"
      ]
     },
     "execution_count": 85,
     "metadata": {},
     "output_type": "execute_result"
    }
   ],
   "source": [
    "df.shape"
   ]
  },
  {
   "cell_type": "code",
   "execution_count": 86,
   "metadata": {},
   "outputs": [
    {
     "data": {
      "text/plain": [
       "(33333, 19)"
      ]
     },
     "execution_count": 86,
     "metadata": {},
     "output_type": "execute_result"
    }
   ],
   "source": [
    "\n",
    "# Eliminamos los duplicados basandonos en la columna 'title'\n",
    "df = df.drop_duplicates(subset='title')\n",
    "\n",
    "# Recreamos el indice de los titulos luego de eliminar los duplicados\n",
    "indices = pd.Series(df.index, index=df['title']).drop_duplicates()\n",
    "\n",
    "\n",
    "# Reducimos la base de datos\n",
    "df.shape"
   ]
  },
  {
   "attachments": {},
   "cell_type": "markdown",
   "metadata": {},
   "source": [
    "## Debido a que el dataset contiene muchos registros decidí samplear los datos a través de las columnas 'popularity' y 'vote_average'.\n",
    "Esto lo hago para que en la api, el usuario a la hora de buscar peliculas no reciba un feedback con peliculas menos conocidas. Estas dos columnas permiten recortar el dataset por peloculas con mayor popularidad o con un mayor puntaje de reseña."
   ]
  },
  {
   "cell_type": "code",
   "execution_count": 87,
   "metadata": {},
   "outputs": [],
   "source": [
    "# Vamos a probar cual de las dos columnas funciona mejor a la hora de hacer recomendaciones\n",
    "# Convertimos las columnas a float\n",
    "df['popularity'] = pd.to_numeric(df['popularity'], errors='coerce')\n",
    "df['vote_average'] = pd.to_numeric(df['vote_average'], errors='coerce')\n",
    "\n",
    "# Ordenamos por popularidad y tomamos las primeras 10000 filas\n",
    "df_popular = df.sort_values(by='popularity', ascending=False).head(5000).reset_index(drop=True)\n",
    "\n",
    "# Ordenamos por vote_average y tomamos las primeras 10000 filas\n",
    "df_highly_rated = df.sort_values(by='vote_average', ascending=False).head(5000).reset_index(drop=True)\n"
   ]
  },
  {
   "cell_type": "code",
   "execution_count": 88,
   "metadata": {},
   "outputs": [
    {
     "data": {
      "text/plain": [
       "(5000, 19)"
      ]
     },
     "execution_count": 88,
     "metadata": {},
     "output_type": "execute_result"
    }
   ],
   "source": [
    "df_popular.shape"
   ]
  },
  {
   "attachments": {},
   "cell_type": "markdown",
   "metadata": {},
   "source": [
    "## Recomendacion de peliculas por popularidad: df_popular"
   ]
  },
  {
   "cell_type": "code",
   "execution_count": 89,
   "metadata": {},
   "outputs": [
    {
     "data": {
      "text/plain": [
       "\"from sklearn.feature_extraction.text import TfidfVectorizer\\nfrom sklearn.metrics.pairwise import cosine_similarity\\nfrom sklearn.feature_extraction.text import HashingVectorizer\\n\\n# Aseguramos que los datos de la columna 'overview' sean strings\\ndf_popular['overview'] = df_popular['overview'].fillna('').astype('str')\\n\\n# Aseguramos que los datos de la columna 'genres' sean strings\\ndf_popular['genres'] = df_popular['genres'].apply(lambda x: ' '.join(map(str, x)) if isinstance(x, list) else '')\\n\\n# Reemplazar los valores NaN con cadenas vacías en la columna 'production_companies'\\ndf_popular['production_companies'] = df_popular['production_companies'].fillna('')\\n\\n# Convertir la columna 'production_companies' a string si es necesario\\ndf_popular['production_companies'] = df_popular['production_companies'].apply(lambda x: ' '.join(map(str, x)) if isinstance(x, list) else x)\\n\\n# Crear una nueva columna combinando las características de interés\\ndf_popular['combined_features'] = df_popular['overview'] + ' ' + df_popular['genres'] + ' ' + df_popular['production_companies']\\n\\n# Convertimos todos los textos a minúsculas para evitar duplicados\\ndf_popular['combined_features'] = df_popular['combined_features'].str.lower()\\n\\n# Inicializamos el HashingVectorizer\\nhash_vectorizer = HashingVectorizer(stop_words='english', n_features=2000)\\n\\n# Transformamos los datos\\nhash_matrix = hash_vectorizer.fit_transform(df_popular['combined_features'])\\n\\n# Calculamos la similitud del coseno\\ncosine_sim = cosine_similarity(hash_matrix)\\n\\n# Creamos un índice con los títulos de las películas\\nindices = pd.Series(df_popular.index, index=df_popular['title']).drop_duplicates()\""
      ]
     },
     "execution_count": 89,
     "metadata": {},
     "output_type": "execute_result"
    }
   ],
   "source": [
    "\"\"\"from sklearn.feature_extraction.text import TfidfVectorizer\n",
    "from sklearn.metrics.pairwise import cosine_similarity\n",
    "from sklearn.feature_extraction.text import HashingVectorizer\n",
    "\n",
    "# Aseguramos que los datos de la columna 'overview' sean strings\n",
    "df_popular['overview'] = df_popular['overview'].fillna('').astype('str')\n",
    "\n",
    "# Aseguramos que los datos de la columna 'genres' sean strings\n",
    "df_popular['genres'] = df_popular['genres'].apply(lambda x: ' '.join(map(str, x)) if isinstance(x, list) else '')\n",
    "\n",
    "# Reemplazar los valores NaN con cadenas vacías en la columna 'production_companies'\n",
    "df_popular['production_companies'] = df_popular['production_companies'].fillna('')\n",
    "\n",
    "# Convertir la columna 'production_companies' a string si es necesario\n",
    "df_popular['production_companies'] = df_popular['production_companies'].apply(lambda x: ' '.join(map(str, x)) if isinstance(x, list) else x)\n",
    "\n",
    "# Crear una nueva columna combinando las características de interés\n",
    "df_popular['combined_features'] = df_popular['overview'] + ' ' + df_popular['genres'] + ' ' + df_popular['production_companies']\n",
    "\n",
    "# Convertimos todos los textos a minúsculas para evitar duplicados\n",
    "df_popular['combined_features'] = df_popular['combined_features'].str.lower()\n",
    "\n",
    "# Inicializamos el HashingVectorizer\n",
    "hash_vectorizer = HashingVectorizer(stop_words='english', n_features=2000)\n",
    "\n",
    "# Transformamos los datos\n",
    "hash_matrix = hash_vectorizer.fit_transform(df_popular['combined_features'])\n",
    "\n",
    "# Calculamos la similitud del coseno\n",
    "cosine_sim = cosine_similarity(hash_matrix)\n",
    "\n",
    "# Creamos un índice con los títulos de las películas\n",
    "indices = pd.Series(df_popular.index, index=df_popular['title']).drop_duplicates()\"\"\""
   ]
  },
  {
   "cell_type": "code",
   "execution_count": 90,
   "metadata": {},
   "outputs": [
    {
     "data": {
      "text/plain": [
       "'def recomendacion2(title, cosine_sim=cosine_sim):\\n    if title not in df_popular[\\'title\\'].values:\\n        return \\'La película no se encuentra en el conjunto de datos de muestra.\\'\\n    else:\\n        # Obtiene el índice de la película que coincide con el título\\n        idx = indices[title]\\n\\n        # Obtiene las puntuaciones de similitud de todas las películas con la película dada\\n        sim_scores = list(enumerate(cosine_sim[idx]))\\n\\n        # Ordena las películas en función de las puntuaciones de similitud\\n        sim_scores = sorted(sim_scores, key=lambda x: x[1], reverse=True)\\n\\n        # Obtiene las puntuaciones de las 5 películas más similares\\n        sim_scores = sim_scores[1:6]\\n\\n        # Obtiene los índices de las películas\\n        movie_indices = [i[0] for i in sim_scores]\\n\\n        # Devuelve las 5 películas más similares\\n        return df_popular[\\'title\\'].iloc[movie_indices]\\n\\nprint(recomendacion2(\"Toy Story\"))\\nrecomendacion2(\"Jumanji\")\\nprint(recomendacion2(\"Titanic\"))'"
      ]
     },
     "execution_count": 90,
     "metadata": {},
     "output_type": "execute_result"
    }
   ],
   "source": [
    "\"\"\"def recomendacion2(title, cosine_sim=cosine_sim):\n",
    "    if title not in df_popular['title'].values:\n",
    "        return 'La película no se encuentra en el conjunto de datos de muestra.'\n",
    "    else:\n",
    "        # Obtiene el índice de la película que coincide con el título\n",
    "        idx = indices[title]\n",
    "\n",
    "        # Obtiene las puntuaciones de similitud de todas las películas con la película dada\n",
    "        sim_scores = list(enumerate(cosine_sim[idx]))\n",
    "\n",
    "        # Ordena las películas en función de las puntuaciones de similitud\n",
    "        sim_scores = sorted(sim_scores, key=lambda x: x[1], reverse=True)\n",
    "\n",
    "        # Obtiene las puntuaciones de las 5 películas más similares\n",
    "        sim_scores = sim_scores[1:6]\n",
    "\n",
    "        # Obtiene los índices de las películas\n",
    "        movie_indices = [i[0] for i in sim_scores]\n",
    "\n",
    "        # Devuelve las 5 películas más similares\n",
    "        return df_popular['title'].iloc[movie_indices]\n",
    "\n",
    "print(recomendacion2(\"Toy Story\"))\n",
    "recomendacion2(\"Jumanji\")\n",
    "print(recomendacion2(\"Titanic\"))\"\"\""
   ]
  },
  {
   "attachments": {},
   "cell_type": "markdown",
   "metadata": {},
   "source": [
    "## df_popular:\n",
    "* Este DataFrame parece dar recomendaciones más variadas. En algunos casos, las películas recomendadas parecen tener poco en común con la película original (por ejemplo, las recomendaciones para \"Titanic\" y \"Avatar\"). Sin embargo, para \"Toy Story\", las recomendaciones son muy relevantes ya que todas son de la misma franquicia o de cortos relacionados."
   ]
  },
  {
   "attachments": {},
   "cell_type": "markdown",
   "metadata": {},
   "source": [
    "## Recomendacion de peliculas por vote_Average"
   ]
  },
  {
   "cell_type": "code",
   "execution_count": 91,
   "metadata": {},
   "outputs": [
    {
     "data": {
      "text/plain": [
       "(5000, 19)"
      ]
     },
     "execution_count": 91,
     "metadata": {},
     "output_type": "execute_result"
    }
   ],
   "source": [
    "df_highly_rated.shape"
   ]
  },
  {
   "cell_type": "code",
   "execution_count": 92,
   "metadata": {},
   "outputs": [
    {
     "data": {
      "text/plain": [
       "\"\\n\\n# Aseguramos que los datos de la columna 'overview', 'genres' y 'production_companies' sean strings\\ndf_highly_rated['overview'] = df_highly_rated['overview'].fillna('').astype('str')\\ndf_highly_rated['genres'] = df_highly_rated['genres'].apply(lambda x: ' '.join(map(str, x)) if isinstance(x, list) else '')\\n# Reemplazar los valores nulos con cadenas vacias\\ndf_highly_rated['production_companies'] = df_highly_rated['production_companies'].fillna('')\\ndf_highly_rated['production_companies'] = df_highly_rated['production_companies'].apply(lambda x: ' '.join(map(str, x)) if isinstance(x, list) else x)\\n\\n# Creamos una nueva columna llamada 'combined_features' que es una combinacion de las columnas 'overview', 'genres' y \\n# 'production_companies'. Esta columna se usara para calcular la similitud entre diferentes peliculas.\\ndf_highly_rated['combined_features'] = df_highly_rated['overview'] + ' ' + df_highly_rated['genres'] + ' ' + df_highly_rated['production_companies']\\n\\n# Convertimos todos los textos a minusculas para evitar duplicados\\ndf_highly_rated['combined_features'] = df_highly_rated['combined_features'].str.lower()\\n\\n# Inicializamos el HashingVectorizer\\nhash_vectorizer = HashingVectorizer(stop_words='english', n_features=2000)\\n# De esta manera evitamos que las palabras mas comunes afecten a nuestro procesamiento de datos\\n# y evitamos que se generen vectores mas grandes\\n\\n# Aprende el vocabulario de 'combined_features' y transforma 'combined_features' en una matriz de vectores\\nhash_matrix = hash_vectorizer.fit_transform(df_highly_rated['combined_features'])\\n\\n# Calculamos la similitud del coseno\\ncosine_sim = cosine_similarity(hash_matrix)\\n\\n# Creamos un indice con los titulos de las peliculas\\nindices = pd.Series(df_highly_rated.index, index=df_highly_rated['title']).drop_duplicates()\""
      ]
     },
     "execution_count": 92,
     "metadata": {},
     "output_type": "execute_result"
    }
   ],
   "source": [
    "# Cosine_similarity es una función que calcula la similitud del coseno. La similitud del coseno es una \n",
    "#metrica utilizada para determinar cuan similares son dos vectores.\n",
    "#HashingVectorizer es una clase que convierte una coleccion de documentos de texto en una matriz de ocurrencias de tokens. \n",
    "\n",
    "\n",
    "# Aseguramos que los datos de la columna 'overview', 'genres' y 'production_companies' sean strings\n",
    "df_highly_rated['overview'] = df_highly_rated['overview'].fillna('').astype('str')\n",
    "df_highly_rated['genres'] = df_highly_rated['genres'].apply(lambda x: ' '.join(map(str, x)) if isinstance(x, list) else '')\n",
    "# Reemplazar los valores nulos con cadenas vacias\n",
    "df_highly_rated['production_companies'] = df_highly_rated['production_companies'].fillna('')\n",
    "df_highly_rated['production_companies'] = df_highly_rated['production_companies'].apply(lambda x: ' '.join(map(str, x)) if isinstance(x, list) else x)\n",
    "\n",
    "# Creamos una nueva columna llamada 'combined_features' que es una combinacion de las columnas 'overview', 'genres' y \n",
    "# 'production_companies'. Esta columna se usara para calcular la similitud entre diferentes peliculas.\n",
    "df_highly_rated['combined_features'] = df_highly_rated['overview'] + ' ' + df_highly_rated['genres'] + ' ' + df_highly_rated['production_companies']\n",
    "\n",
    "# Convertimos todos los textos a minusculas para evitar duplicados\n",
    "df_highly_rated['combined_features'] = df_highly_rated['combined_features'].str.lower()\n",
    "\n",
    "# Inicializamos el HashingVectorizer\n",
    "hash_vectorizer = HashingVectorizer(stop_words='english', n_features=2000)\n",
    "# De esta manera evitamos que las palabras mas comunes afecten a nuestro procesamiento de datos\n",
    "# y evitamos que se generen vectores mas grandes\n",
    "\n",
    "# Aprende el vocabulario de 'combined_features' y transforma 'combined_features' en una matriz de vectores\n",
    "hash_matrix = hash_vectorizer.fit_transform(df_highly_rated['combined_features'])\n",
    "\"\"\"\n",
    "# Calculamos la similitud del coseno\n",
    "cosine_sim = cosine_similarity(hash_matrix)\n",
    "\n",
    "# Creamos un indice con los titulos de las peliculas\n",
    "indices = pd.Series(df_highly_rated.index, index=df_highly_rated['title']).drop_duplicates()\"\"\""
   ]
  },
  {
   "cell_type": "code",
   "execution_count": 93,
   "metadata": {},
   "outputs": [
    {
     "data": {
      "text/plain": [
       "\"def recomendacion(title, cosine_sim=cosine_sim):\\n    # Verificamos que el titulo ingresado se encuentre en el df\\n    if title not in df_highly_rated['title'].values:\\n        return 'La pelicula no se encuentra en el conjunto de la base de datos.'\\n    else:\\n        # Si el titulo estan en el df, encontramos su indice\\n        index = indices[title]\\n        # Esto nos da una manera de acceder a la fila correspondiente en la matriz de similitud del coseno.\\n\\n        # Obtenemos las puntuaciones de similitud de todas las peliculas con la pelicula dada\\n        similarity = list(enumerate(cosine_sim[index]))\\n\\n        # Ordenamos las peliculas en funcion de las puntuaciones de similitud\\n        similarity = sorted(similarity, key=lambda x: x[1], reverse=True)\\n\\n        # Obtenemos 5 peliculas mas similares\\n        similarity = similarity[1:6]\\n\\n        # Obtiene los indices de las peliculas\\n        movie_indices = [i[0] for i in similarity]\\n\\n        # Devuelve las 5 peliculas mas similares\\n        return df_highly_rated['title'].iloc[movie_indices].tolist()\""
      ]
     },
     "execution_count": 93,
     "metadata": {},
     "output_type": "execute_result"
    }
   ],
   "source": [
    "\"\"\"def recomendacion(title, cosine_sim=cosine_sim):\n",
    "    # Verificamos que el titulo ingresado se encuentre en el df\n",
    "    if title not in df_highly_rated['title'].values:\n",
    "        return 'La pelicula no se encuentra en el conjunto de la base de datos.'\n",
    "    else:\n",
    "        # Si el titulo estan en el df, encontramos su indice\n",
    "        index = indices[title]\n",
    "        # Esto nos da una manera de acceder a la fila correspondiente en la matriz de similitud del coseno.\n",
    "\n",
    "        # Obtenemos las puntuaciones de similitud de todas las peliculas con la pelicula dada\n",
    "        similarity = list(enumerate(cosine_sim[index]))\n",
    "\n",
    "        # Ordenamos las peliculas en funcion de las puntuaciones de similitud\n",
    "        similarity = sorted(similarity, key=lambda x: x[1], reverse=True)\n",
    "\n",
    "        # Obtenemos 5 peliculas mas similares\n",
    "        similarity = similarity[1:6]\n",
    "\n",
    "        # Obtiene los indices de las peliculas\n",
    "        movie_indices = [i[0] for i in similarity]\n",
    "\n",
    "        # Devuelve las 5 peliculas mas similares\n",
    "        return df_highly_rated['title'].iloc[movie_indices].tolist()\"\"\"\n"
   ]
  },
  {
   "attachments": {},
   "cell_type": "markdown",
   "metadata": {},
   "source": [
    "## df_highly_rated: \n",
    "* Este DataFrame parece dar recomendaciones más consistentes. Las películas recomendadas tienden a ser altamente valoradas y, en algunos casos, parecen compartir similitudes temáticas o de género con la película original (por ejemplo, las recomendaciones para \"Avatar\" y \"Jumanji\")."
   ]
  },
  {
   "cell_type": "code",
   "execution_count": 94,
   "metadata": {},
   "outputs": [],
   "source": [
    "# df_highly_rated.to_csv('movies_final_with_combined_features2.csv', index=False)"
   ]
  },
  {
   "attachments": {},
   "cell_type": "markdown",
   "metadata": {},
   "source": [
    "# Hay que optimizar el codigo para que funcione el deploy de la api en render"
   ]
  },
  {
   "cell_type": "code",
   "execution_count": null,
   "metadata": {},
   "outputs": [],
   "source": [
    "#inicialmente intentamos usar un enfoque basado en la similitud del coseno, calculando la similitud del coseno entre todas las parejas \n",
    "#de películas. Sin embargo, descubrimos que este enfoque era bastante costoso en términos de memoria y rendimiento, ya que la matriz de \n",
    "#similitudes era muy grande y difícil de manejar de manera eficiente.\n",
    "\n",
    "#Para solucionar este problema, cambiamos a un modelo de K-vecinos más cercanos, o KNN. Este modelo nos permitió encontrar las \n",
    "#películas más similares de manera más eficiente, sin tener que almacenar todas las similitudes.\n"
   ]
  },
  {
   "cell_type": "code",
   "execution_count": 95,
   "metadata": {},
   "outputs": [],
   "source": [
    "from sklearn.feature_extraction.text import CountVectorizer #para convertir las caracteristicas combinadas en una matriz\n",
    "from sklearn.neighbors import NearestNeighbors # para crear un modelo que pueda encontrar los vecinos mas cercanos en un espacio dado\n",
    "\n",
    "# Nos aseguramos de que estamos trabajando con los datos exportados del df_highly_rated\n",
    "df_highly_rated = pd.read_csv('movies_final_with_combined_features2.csv')\n",
    "\n",
    "#  En esta matriz, cada fila representa una película y cada columna \n",
    "# representa un termino en las caracteristicas combinadas\n",
    "cv = CountVectorizer(stop_words='english', max_features=5000)\n",
    "count_matrix = cv.fit_transform(df_highly_rated['combined_features'])\n",
    "\n",
    "# Creamos un modelo para encontrar los vecinos mas cercanos en un espacio de caracterisicaa\n",
    "nn = NearestNeighbors(metric='cosine', algorithm='brute')\n",
    "nn.fit(count_matrix)\n",
    "\n",
    "# Creamos un indice de titulos de peliculas y eliminamos los duplicados\n",
    "indices = pd.Series(df_highly_rated.index, index=df_highly_rated['title']).drop_duplicates()\n"
   ]
  },
  {
   "cell_type": "code",
   "execution_count": 101,
   "metadata": {},
   "outputs": [
    {
     "name": "stdout",
     "output_type": "stream",
     "text": [
      "['Toy Story 3', 'Toy Story 2', 'Partysaurus Rex', 'Banana', 'Cosmic Scrat-tastrophe']\n",
      "['X-Men: Days of Future Past', 'Predator', 'Lone Survivor', 'The City of Lost Children', 'Cosmic Scrat-tastrophe']\n",
      "La pelicula no se encuentra en el conjunto de la base de datos.\n",
      "['Elite Squad', 'Extraordinary Mission', 'Casino', \"Carlito's Way\", 'Highway Patrolman']\n"
     ]
    }
   ],
   "source": [
    "def recomendacion(title):\n",
    "    '''Ingresas un nombre de pelicula y te recomienda las similares en una lista\n",
    "    ''' \n",
    "    # Verifica si el titulo ingresado se encuentra en el df\n",
    "    if title not in df_highly_rated['title'].values:\n",
    "        return 'La pelicula no se encuentra en el conjunto de la base de datos.'\n",
    "    else:\n",
    "        # Si el título esta en el df, encuentra su indice\n",
    "        index = indices[title]\n",
    "\n",
    "        # Obtiene las puntuaciones de similitud de las 5 peliculas más cercanas\n",
    "        distances, indices_knn = nn.kneighbors(count_matrix[index], n_neighbors=6)  # indica que queremos encontrar las 6 peliculas más similares, incluyendo la pelicula dada\n",
    "\n",
    "        # Obtiene los indices de las peliculas\n",
    "        movie_indices = indices_knn[0][1:]  # Se omite el primer indice (la pelicula misma) con [1:]\n",
    "\n",
    "        # Devuelve las 5 peliculas mas similares\n",
    "        return df_highly_rated['title'].iloc[movie_indices].tolist()\n",
    "\n",
    "print(recomendacion('Toy Story'))\n",
    "print(recomendacion('Avatar'))\n",
    "print(recomendacion('Jumanji'))\n",
    "print(recomendacion('Scarface'))"
   ]
  }
 ],
 "metadata": {
  "kernelspec": {
   "display_name": "Proyecto1-gJG8LYw3",
   "language": "python",
   "name": "python3"
  },
  "language_info": {
   "codemirror_mode": {
    "name": "ipython",
    "version": 3
   },
   "file_extension": ".py",
   "mimetype": "text/x-python",
   "name": "python",
   "nbconvert_exporter": "python",
   "pygments_lexer": "ipython3",
   "version": "3.11.1"
  },
  "orig_nbformat": 4
 },
 "nbformat": 4,
 "nbformat_minor": 2
}
