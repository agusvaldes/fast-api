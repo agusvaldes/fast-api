{
 "cells": [
  {
   "attachments": {},
   "cell_type": "markdown",
   "metadata": {},
   "source": [
    "# Proyecto individual, segunda parte: EDA Y ML. "
   ]
  },
  {
   "cell_type": "code",
   "execution_count": 550,
   "metadata": {},
   "outputs": [],
   "source": [
    "#Importacion de librerias\n",
    "%matplotlib inline\n",
    "import numpy as np\n",
    "import pandas as pd\n",
    "import matplotlib.pyplot as plt \n",
    "import seaborn as sns\n",
    "from scipy import stats\n",
    "from scipy.stats import skew\n",
    "from math import sqrt\n",
    "from numpy import mean, var\n",
    "from sklearn import preprocessing\n",
    "import ast\n"
   ]
  },
  {
   "cell_type": "code",
   "execution_count": 551,
   "metadata": {},
   "outputs": [
    {
     "name": "stderr",
     "output_type": "stream",
     "text": [
      "C:\\Users\\agusv\\AppData\\Local\\Temp\\ipykernel_3288\\412972635.py:2: DtypeWarning: Columns (10) have mixed types. Specify dtype option on import or set low_memory=False.\n",
      "  df=pd.read_csv('movies_dataset.csv')\n"
     ]
    }
   ],
   "source": [
    "#Leemos el archivo csv como df\n",
    "df=pd.read_csv('movies_dataset.csv') \n"
   ]
  },
  {
   "cell_type": "code",
   "execution_count": 552,
   "metadata": {},
   "outputs": [
    {
     "data": {
      "text/plain": [
       "Index(['belongs_to_collection', 'budget', 'genres', 'id', 'original_language',\n",
       "       'overview', 'popularity', 'production_companies',\n",
       "       'production_countries', 'release_date', 'revenue', 'runtime',\n",
       "       'spoken_languages', 'status', 'tagline', 'title', 'vote_average'],\n",
       "      dtype='object')"
      ]
     },
     "execution_count": 552,
     "metadata": {},
     "output_type": "execute_result"
    }
   ],
   "source": [
    "df.drop(columns=['video', 'imdb_id', 'adult', 'original_title', 'vote_count', 'poster_path', 'homepage'], inplace = True)\n",
    "df.columns"
   ]
  },
  {
   "cell_type": "code",
   "execution_count": 553,
   "metadata": {},
   "outputs": [
    {
     "data": {
      "text/html": [
       "<div>\n",
       "<style scoped>\n",
       "    .dataframe tbody tr th:only-of-type {\n",
       "        vertical-align: middle;\n",
       "    }\n",
       "\n",
       "    .dataframe tbody tr th {\n",
       "        vertical-align: top;\n",
       "    }\n",
       "\n",
       "    .dataframe thead th {\n",
       "        text-align: right;\n",
       "    }\n",
       "</style>\n",
       "<table border=\"1\" class=\"dataframe\">\n",
       "  <thead>\n",
       "    <tr style=\"text-align: right;\">\n",
       "      <th></th>\n",
       "      <th>belongs_to_collection</th>\n",
       "      <th>budget</th>\n",
       "      <th>genres</th>\n",
       "      <th>id</th>\n",
       "      <th>original_language</th>\n",
       "      <th>overview</th>\n",
       "      <th>popularity</th>\n",
       "      <th>production_companies</th>\n",
       "      <th>production_countries</th>\n",
       "      <th>release_date</th>\n",
       "      <th>revenue</th>\n",
       "      <th>runtime</th>\n",
       "      <th>spoken_languages</th>\n",
       "      <th>status</th>\n",
       "      <th>tagline</th>\n",
       "      <th>title</th>\n",
       "      <th>vote_average</th>\n",
       "    </tr>\n",
       "  </thead>\n",
       "  <tbody>\n",
       "    <tr>\n",
       "      <th>0</th>\n",
       "      <td>{'id': 10194, 'name': 'Toy Story Collection', ...</td>\n",
       "      <td>30000000</td>\n",
       "      <td>[{'id': 16, 'name': 'Animation'}, {'id': 35, '...</td>\n",
       "      <td>862</td>\n",
       "      <td>en</td>\n",
       "      <td>Led by Woody, Andy's toys live happily in his ...</td>\n",
       "      <td>21.946943</td>\n",
       "      <td>[{'name': 'Pixar Animation Studios', 'id': 3}]</td>\n",
       "      <td>[{'iso_3166_1': 'US', 'name': 'United States o...</td>\n",
       "      <td>1995-10-30</td>\n",
       "      <td>373554033.0</td>\n",
       "      <td>81.0</td>\n",
       "      <td>[{'iso_639_1': 'en', 'name': 'English'}]</td>\n",
       "      <td>Released</td>\n",
       "      <td>NaN</td>\n",
       "      <td>Toy Story</td>\n",
       "      <td>7.7</td>\n",
       "    </tr>\n",
       "  </tbody>\n",
       "</table>\n",
       "</div>"
      ],
      "text/plain": [
       "                               belongs_to_collection    budget  \\\n",
       "0  {'id': 10194, 'name': 'Toy Story Collection', ...  30000000   \n",
       "\n",
       "                                              genres   id original_language  \\\n",
       "0  [{'id': 16, 'name': 'Animation'}, {'id': 35, '...  862                en   \n",
       "\n",
       "                                            overview popularity  \\\n",
       "0  Led by Woody, Andy's toys live happily in his ...  21.946943   \n",
       "\n",
       "                             production_companies  \\\n",
       "0  [{'name': 'Pixar Animation Studios', 'id': 3}]   \n",
       "\n",
       "                                production_countries release_date  \\\n",
       "0  [{'iso_3166_1': 'US', 'name': 'United States o...   1995-10-30   \n",
       "\n",
       "       revenue  runtime                          spoken_languages    status  \\\n",
       "0  373554033.0     81.0  [{'iso_639_1': 'en', 'name': 'English'}]  Released   \n",
       "\n",
       "  tagline      title  vote_average  \n",
       "0     NaN  Toy Story           7.7  "
      ]
     },
     "execution_count": 553,
     "metadata": {},
     "output_type": "execute_result"
    }
   ],
   "source": [
    "df.head(1)"
   ]
  },
  {
   "attachments": {},
   "cell_type": "markdown",
   "metadata": {},
   "source": [
    "### 4) EDA"
   ]
  },
  {
   "cell_type": "code",
   "execution_count": 554,
   "metadata": {},
   "outputs": [
    {
     "data": {
      "text/html": [
       "<div>\n",
       "<style scoped>\n",
       "    .dataframe tbody tr th:only-of-type {\n",
       "        vertical-align: middle;\n",
       "    }\n",
       "\n",
       "    .dataframe tbody tr th {\n",
       "        vertical-align: top;\n",
       "    }\n",
       "\n",
       "    .dataframe thead th {\n",
       "        text-align: right;\n",
       "    }\n",
       "</style>\n",
       "<table border=\"1\" class=\"dataframe\">\n",
       "  <thead>\n",
       "    <tr style=\"text-align: right;\">\n",
       "      <th></th>\n",
       "      <th>revenue</th>\n",
       "      <th>runtime</th>\n",
       "      <th>vote_average</th>\n",
       "    </tr>\n",
       "  </thead>\n",
       "  <tbody>\n",
       "    <tr>\n",
       "      <th>count</th>\n",
       "      <td>4.546000e+04</td>\n",
       "      <td>45203.000000</td>\n",
       "      <td>45460.000000</td>\n",
       "    </tr>\n",
       "    <tr>\n",
       "      <th>mean</th>\n",
       "      <td>1.120935e+07</td>\n",
       "      <td>94.128199</td>\n",
       "      <td>5.618207</td>\n",
       "    </tr>\n",
       "    <tr>\n",
       "      <th>std</th>\n",
       "      <td>6.433225e+07</td>\n",
       "      <td>38.407810</td>\n",
       "      <td>1.924216</td>\n",
       "    </tr>\n",
       "    <tr>\n",
       "      <th>min</th>\n",
       "      <td>0.000000e+00</td>\n",
       "      <td>0.000000</td>\n",
       "      <td>0.000000</td>\n",
       "    </tr>\n",
       "    <tr>\n",
       "      <th>25%</th>\n",
       "      <td>0.000000e+00</td>\n",
       "      <td>85.000000</td>\n",
       "      <td>5.000000</td>\n",
       "    </tr>\n",
       "    <tr>\n",
       "      <th>50%</th>\n",
       "      <td>0.000000e+00</td>\n",
       "      <td>95.000000</td>\n",
       "      <td>6.000000</td>\n",
       "    </tr>\n",
       "    <tr>\n",
       "      <th>75%</th>\n",
       "      <td>0.000000e+00</td>\n",
       "      <td>107.000000</td>\n",
       "      <td>6.800000</td>\n",
       "    </tr>\n",
       "    <tr>\n",
       "      <th>max</th>\n",
       "      <td>2.787965e+09</td>\n",
       "      <td>1256.000000</td>\n",
       "      <td>10.000000</td>\n",
       "    </tr>\n",
       "  </tbody>\n",
       "</table>\n",
       "</div>"
      ],
      "text/plain": [
       "            revenue       runtime  vote_average\n",
       "count  4.546000e+04  45203.000000  45460.000000\n",
       "mean   1.120935e+07     94.128199      5.618207\n",
       "std    6.433225e+07     38.407810      1.924216\n",
       "min    0.000000e+00      0.000000      0.000000\n",
       "25%    0.000000e+00     85.000000      5.000000\n",
       "50%    0.000000e+00     95.000000      6.000000\n",
       "75%    0.000000e+00    107.000000      6.800000\n",
       "max    2.787965e+09   1256.000000     10.000000"
      ]
     },
     "execution_count": 554,
     "metadata": {},
     "output_type": "execute_result"
    }
   ],
   "source": [
    "# Resumen estadistico de las columnas numericas\n",
    "df.describe()"
   ]
  },
  {
   "cell_type": "code",
   "execution_count": 555,
   "metadata": {},
   "outputs": [
    {
     "data": {
      "text/html": [
       "<div>\n",
       "<style scoped>\n",
       "    .dataframe tbody tr th:only-of-type {\n",
       "        vertical-align: middle;\n",
       "    }\n",
       "\n",
       "    .dataframe tbody tr th {\n",
       "        vertical-align: top;\n",
       "    }\n",
       "\n",
       "    .dataframe thead th {\n",
       "        text-align: right;\n",
       "    }\n",
       "</style>\n",
       "<table border=\"1\" class=\"dataframe\">\n",
       "  <thead>\n",
       "    <tr style=\"text-align: right;\">\n",
       "      <th></th>\n",
       "      <th>belongs_to_collection</th>\n",
       "      <th>budget</th>\n",
       "      <th>genres</th>\n",
       "      <th>id</th>\n",
       "      <th>original_language</th>\n",
       "      <th>overview</th>\n",
       "      <th>popularity</th>\n",
       "      <th>production_companies</th>\n",
       "      <th>production_countries</th>\n",
       "      <th>release_date</th>\n",
       "      <th>spoken_languages</th>\n",
       "      <th>status</th>\n",
       "      <th>tagline</th>\n",
       "      <th>title</th>\n",
       "    </tr>\n",
       "  </thead>\n",
       "  <tbody>\n",
       "    <tr>\n",
       "      <th>count</th>\n",
       "      <td>4494</td>\n",
       "      <td>45466</td>\n",
       "      <td>45466</td>\n",
       "      <td>45466</td>\n",
       "      <td>45455</td>\n",
       "      <td>44512</td>\n",
       "      <td>45461</td>\n",
       "      <td>45463</td>\n",
       "      <td>45463</td>\n",
       "      <td>45379</td>\n",
       "      <td>45460</td>\n",
       "      <td>45379</td>\n",
       "      <td>20412</td>\n",
       "      <td>45460</td>\n",
       "    </tr>\n",
       "    <tr>\n",
       "      <th>unique</th>\n",
       "      <td>1698</td>\n",
       "      <td>1226</td>\n",
       "      <td>4069</td>\n",
       "      <td>45436</td>\n",
       "      <td>92</td>\n",
       "      <td>44307</td>\n",
       "      <td>44176</td>\n",
       "      <td>22708</td>\n",
       "      <td>2393</td>\n",
       "      <td>17336</td>\n",
       "      <td>1931</td>\n",
       "      <td>6</td>\n",
       "      <td>20283</td>\n",
       "      <td>42277</td>\n",
       "    </tr>\n",
       "    <tr>\n",
       "      <th>top</th>\n",
       "      <td>{'id': 415931, 'name': 'The Bowery Boys', 'pos...</td>\n",
       "      <td>0</td>\n",
       "      <td>[{'id': 18, 'name': 'Drama'}]</td>\n",
       "      <td>141971</td>\n",
       "      <td>en</td>\n",
       "      <td>No overview found.</td>\n",
       "      <td>0.0</td>\n",
       "      <td>[]</td>\n",
       "      <td>[{'iso_3166_1': 'US', 'name': 'United States o...</td>\n",
       "      <td>2008-01-01</td>\n",
       "      <td>[{'iso_639_1': 'en', 'name': 'English'}]</td>\n",
       "      <td>Released</td>\n",
       "      <td>Based on a true story.</td>\n",
       "      <td>Cinderella</td>\n",
       "    </tr>\n",
       "    <tr>\n",
       "      <th>freq</th>\n",
       "      <td>29</td>\n",
       "      <td>36573</td>\n",
       "      <td>5000</td>\n",
       "      <td>3</td>\n",
       "      <td>32269</td>\n",
       "      <td>133</td>\n",
       "      <td>34</td>\n",
       "      <td>11875</td>\n",
       "      <td>17851</td>\n",
       "      <td>136</td>\n",
       "      <td>22395</td>\n",
       "      <td>45014</td>\n",
       "      <td>7</td>\n",
       "      <td>11</td>\n",
       "    </tr>\n",
       "  </tbody>\n",
       "</table>\n",
       "</div>"
      ],
      "text/plain": [
       "                                    belongs_to_collection budget  \\\n",
       "count                                                4494  45466   \n",
       "unique                                               1698   1226   \n",
       "top     {'id': 415931, 'name': 'The Bowery Boys', 'pos...      0   \n",
       "freq                                                   29  36573   \n",
       "\n",
       "                               genres      id original_language  \\\n",
       "count                           45466   45466             45455   \n",
       "unique                           4069   45436                92   \n",
       "top     [{'id': 18, 'name': 'Drama'}]  141971                en   \n",
       "freq                             5000       3             32269   \n",
       "\n",
       "                  overview popularity production_companies  \\\n",
       "count                44512      45461                45463   \n",
       "unique               44307      44176                22708   \n",
       "top     No overview found.        0.0                   []   \n",
       "freq                   133         34                11875   \n",
       "\n",
       "                                     production_countries release_date  \\\n",
       "count                                               45463        45379   \n",
       "unique                                               2393        17336   \n",
       "top     [{'iso_3166_1': 'US', 'name': 'United States o...   2008-01-01   \n",
       "freq                                                17851          136   \n",
       "\n",
       "                                spoken_languages    status  \\\n",
       "count                                      45460     45379   \n",
       "unique                                      1931         6   \n",
       "top     [{'iso_639_1': 'en', 'name': 'English'}]  Released   \n",
       "freq                                       22395     45014   \n",
       "\n",
       "                       tagline       title  \n",
       "count                    20412       45460  \n",
       "unique                   20283       42277  \n",
       "top     Based on a true story.  Cinderella  \n",
       "freq                         7          11  "
      ]
     },
     "execution_count": 555,
     "metadata": {},
     "output_type": "execute_result"
    }
   ],
   "source": [
    "# Resumen de las columnas no numericas \n",
    "df.describe(include=['O'])"
   ]
  },
  {
   "cell_type": "code",
   "execution_count": 558,
   "metadata": {},
   "outputs": [],
   "source": [
    "# Convertimos la columna 'genres' de string a lista de diccionarios\n",
    "df['genres'] = df['genres'].apply(ast.literal_eval)\n",
    "# Extraemos el nombre de cada genero y cramos una nueva columna con la lista de nombres de generos\n",
    "df['genre_names'] = df['genres'].apply(lambda x: [d['name'] for d in x])\n",
    "# Expandimos la lista de nombres de géneros\n",
    "generos_expandidos = df['genre_names'].explode()\n",
    "# Contamos la frecuencia de cada valor en la columna 'genre_names'\n",
    "conteo_generos = generos_expandidos.value_counts()\n",
    "# Eliminamos los géneros que solo aparecen una vez\n",
    "conteo_generos = conteo_generos[conteo_generos > 1]"
   ]
  },
  {
   "cell_type": "code",
   "execution_count": 559,
   "metadata": {},
   "outputs": [
    {
     "data": {
      "image/png": "[encoded data removed]",
      "text/plain": [
       "<Figure size 1000x600 with 1 Axes>"
      ]
     },
     "metadata": {},
     "output_type": "display_data"
    }
   ],
   "source": [
    "# Grafico para ver la cantidad de peliculas por genero\n",
    "conteo_generos = conteo_generos.sort_values()  # Ordenamos los géneros por cantidad de películas\n",
    "\n",
    "plt.figure(figsize=(10,6)) \n",
    "conteo_generos.plot(kind='barh')  # Creamos un gráfico de barras horizontales\n",
    "plt.title('Cantidad de películas por género')  # Añadimos un título al gráfico\n",
    "plt.xlabel('Cantidad de películas')  # Añadimos un título al eje x\n",
    "plt.ylabel('Género')  # Añadimos un título al eje y\n",
    "plt.show()  # Mostramos el gráfico"
   ]
  },
  {
   "cell_type": "code",
   "execution_count": 560,
   "metadata": {},
   "outputs": [
    {
     "data": {
      "text/html": [
       "<div>\n",
       "<style scoped>\n",
       "    .dataframe tbody tr th:only-of-type {\n",
       "        vertical-align: middle;\n",
       "    }\n",
       "\n",
       "    .dataframe tbody tr th {\n",
       "        vertical-align: top;\n",
       "    }\n",
       "\n",
       "    .dataframe thead th {\n",
       "        text-align: right;\n",
       "    }\n",
       "</style>\n",
       "<table border=\"1\" class=\"dataframe\">\n",
       "  <thead>\n",
       "    <tr style=\"text-align: right;\">\n",
       "      <th></th>\n",
       "      <th>genre_names</th>\n",
       "    </tr>\n",
       "  </thead>\n",
       "  <tbody>\n",
       "    <tr>\n",
       "      <th>0</th>\n",
       "      <td>[Animation, Comedy, Family]</td>\n",
       "    </tr>\n",
       "    <tr>\n",
       "      <th>1</th>\n",
       "      <td>[Adventure, Fantasy, Family]</td>\n",
       "    </tr>\n",
       "    <tr>\n",
       "      <th>2</th>\n",
       "      <td>[Romance, Comedy]</td>\n",
       "    </tr>\n",
       "    <tr>\n",
       "      <th>3</th>\n",
       "      <td>[Comedy, Drama, Romance]</td>\n",
       "    </tr>\n",
       "    <tr>\n",
       "      <th>4</th>\n",
       "      <td>[Comedy]</td>\n",
       "    </tr>\n",
       "    <tr>\n",
       "      <th>...</th>\n",
       "      <td>...</td>\n",
       "    </tr>\n",
       "    <tr>\n",
       "      <th>45461</th>\n",
       "      <td>[Drama, Family]</td>\n",
       "    </tr>\n",
       "    <tr>\n",
       "      <th>45462</th>\n",
       "      <td>[Drama]</td>\n",
       "    </tr>\n",
       "    <tr>\n",
       "      <th>45463</th>\n",
       "      <td>[Action, Drama, Thriller]</td>\n",
       "    </tr>\n",
       "    <tr>\n",
       "      <th>45464</th>\n",
       "      <td>[]</td>\n",
       "    </tr>\n",
       "    <tr>\n",
       "      <th>45465</th>\n",
       "      <td>[]</td>\n",
       "    </tr>\n",
       "  </tbody>\n",
       "</table>\n",
       "<p>45466 rows × 1 columns</p>\n",
       "</div>"
      ],
      "text/plain": [
       "                        genre_names\n",
       "0       [Animation, Comedy, Family]\n",
       "1      [Adventure, Fantasy, Family]\n",
       "2                 [Romance, Comedy]\n",
       "3          [Comedy, Drama, Romance]\n",
       "4                          [Comedy]\n",
       "...                             ...\n",
       "45461               [Drama, Family]\n",
       "45462                       [Drama]\n",
       "45463     [Action, Drama, Thriller]\n",
       "45464                            []\n",
       "45465                            []\n",
       "\n",
       "[45466 rows x 1 columns]"
      ]
     },
     "execution_count": 560,
     "metadata": {},
     "output_type": "execute_result"
    }
   ],
   "source": [
    "df[[\"genre_names\"]]"
   ]
  },
  {
   "cell_type": "code",
   "execution_count": 561,
   "metadata": {},
   "outputs": [
    {
     "data": {
      "text/plain": [
       "(45466, 18)"
      ]
     },
     "execution_count": 561,
     "metadata": {},
     "output_type": "execute_result"
    }
   ],
   "source": [
    "df.shape"
   ]
  },
  {
   "cell_type": "code",
   "execution_count": 562,
   "metadata": {},
   "outputs": [
    {
     "data": {
      "image/png": "[encoded data removed]",
      "text/plain": [
       "<Figure size 640x480 with 1 Axes>"
      ]
     },
     "metadata": {},
     "output_type": "display_data"
    }
   ],
   "source": [
    "# Duracion de las peliculas\n",
    "df_filtered = df[(df['runtime'] >= 50) & (df['runtime'] <= 380)]\n",
    "\n",
    "df_filtered['runtime'].plot(kind='hist', rwidth=0.8, bins=30)\n",
    "\n",
    "plt.title('Duración de las películas')\n",
    "plt.xlabel('Duración (minutos)')\n",
    "plt.ylabel('Cantidad de películas')\n",
    "\n",
    "plt.show()"
   ]
  },
  {
   "attachments": {},
   "cell_type": "markdown",
   "metadata": {},
   "source": [
    "# Machine learning"
   ]
  },
  {
   "cell_type": "code",
   "execution_count": 563,
   "metadata": {},
   "outputs": [],
   "source": [
    "#pip install nltk"
   ]
  },
  {
   "cell_type": "code",
   "execution_count": 564,
   "metadata": {},
   "outputs": [],
   "source": [
    "# Convertir todos los valores en la columna 'overview' a strings\n",
    "df['overview'] = df['overview'].astype(str)"
   ]
  },
  {
   "cell_type": "code",
   "execution_count": 565,
   "metadata": {},
   "outputs": [],
   "source": [
    "# Concatenamos todas las descripciones de las películas en una sola cadena de texto\n",
    "# Utilizamos astype para asegurarnos de que todos los valores son cadenas de texto\n",
    "text = ' '.join(df['overview'].astype(str))"
   ]
  },
  {
   "cell_type": "code",
   "execution_count": 566,
   "metadata": {},
   "outputs": [
    {
     "data": {
      "text/plain": [
       "(45466, 18)"
      ]
     },
     "execution_count": 566,
     "metadata": {},
     "output_type": "execute_result"
    }
   ],
   "source": [
    "df.shape"
   ]
  },
  {
   "cell_type": "code",
   "execution_count": 567,
   "metadata": {},
   "outputs": [
    {
     "data": {
      "text/plain": [
       "'import nltk\\nfrom nltk.corpus import stopwords\\nfrom nltk.stem import WordNetLemmatizer\\nfrom collections import Counter\\n\\n# Descarga las stop words de NLTK si aún no lo has hecho\\nnltk.download(\\'stopwords\\')\\nnltk.download(\\'wordnet\\')\\n\\n# Crea el lematizador\\nlemmatizer = WordNetLemmatizer()\\n\\n# Define las stop words \\nstop_words = set(stopwords.words(\\'english\\'))\\n\\n# Crea una lista de palabras, excluyendo las stop words y lematizando\\nwords = [lemmatizer.lemmatize(word) \\n         for word in nltk.word_tokenize(\" \".join(df[\\'overview\\']).lower()) \\n         if word.isalpha() and word not in stop_words]\\n\\n# Imprime las 15 palabras más comunes\\nprint(Counter(words).most_common(15))'"
      ]
     },
     "execution_count": 567,
     "metadata": {},
     "output_type": "execute_result"
    }
   ],
   "source": [
    "\"\"\"import nltk\n",
    "from nltk.corpus import stopwords\n",
    "from nltk.stem import WordNetLemmatizer\n",
    "from collections import Counter\n",
    "\n",
    "# Descarga las stop words de NLTK si aún no lo has hecho\n",
    "nltk.download('stopwords')\n",
    "nltk.download('wordnet')\n",
    "\n",
    "# Crea el lematizador\n",
    "lemmatizer = WordNetLemmatizer()\n",
    "\n",
    "# Define las stop words \n",
    "stop_words = set(stopwords.words('english'))\n",
    "\n",
    "# Crea una lista de palabras, excluyendo las stop words y lematizando\n",
    "words = [lemmatizer.lemmatize(word) \n",
    "         for word in nltk.word_tokenize(\" \".join(df['overview']).lower()) \n",
    "         if word.isalpha() and word not in stop_words]\n",
    "\n",
    "# Imprime las 15 palabras más comunes\n",
    "print(Counter(words).most_common(15))\"\"\""
   ]
  },
  {
   "attachments": {},
   "cell_type": "markdown",
   "metadata": {},
   "source": [
    "* 'Life' es la palabra más común, lo que sugiere que muchas películas tratan sobre aspectos de la vida humana.\n",
    "* Palabras como 'one', 'young', 'man', 'woman', 'friend' sugieren temas de desarrollo personal, crecimiento y relaciones interpersonales.\n",
    "* 'Find' y 'get' podrían indicar temas de búsqueda, ya sea literal o figurativamente.\n",
    "* 'Film' y 'story' son palabras esperadas en descripciones de películas.\n",
    "* 'Love', 'family' y 'world' son temas comunes en muchas películas."
   ]
  },
  {
   "cell_type": "code",
   "execution_count": 568,
   "metadata": {},
   "outputs": [
    {
     "data": {
      "text/plain": [
       "(42278, 18)"
      ]
     },
     "execution_count": 568,
     "metadata": {},
     "output_type": "execute_result"
    }
   ],
   "source": [
    "\n",
    "# Elimina los duplicados basándote en la columna 'title'\n",
    "df = df.drop_duplicates(subset='title')\n",
    "\n",
    "# Recrea el índice de los títulos luego de eliminar los duplicados\n",
    "indices = pd.Series(df.index, index=df['title']).drop_duplicates()\n",
    "\n",
    "\n",
    "# Ahora puedes trabajar con df_sample que es una versión más pequeña de tus datos\n",
    "df.shape"
   ]
  },
  {
   "cell_type": "code",
   "execution_count": 569,
   "metadata": {},
   "outputs": [],
   "source": [
    "# Convierte las columnas a float\n",
    "df['popularity'] = pd.to_numeric(df['popularity'], errors='coerce')\n",
    "df['vote_average'] = pd.to_numeric(df['vote_average'], errors='coerce')\n",
    "\n",
    "# Ordena por popularidad y toma las primeras 5000 filas\n",
    "df_popular = df.sort_values(by='popularity', ascending=False).head(10000)\n",
    "\n",
    "# Ordena por vote_average y toma las primeras 5000 filas\n",
    "df_highly_rated = df.sort_values(by='vote_average', ascending=False).head(10000)\n"
   ]
  },
  {
   "cell_type": "code",
   "execution_count": 570,
   "metadata": {},
   "outputs": [
    {
     "data": {
      "text/plain": [
       "(10000, 18)"
      ]
     },
     "execution_count": 570,
     "metadata": {},
     "output_type": "execute_result"
    }
   ],
   "source": [
    "df_popular.shape"
   ]
  },
  {
   "cell_type": "code",
   "execution_count": 571,
   "metadata": {},
   "outputs": [],
   "source": [
    "\n",
    "df_popular = df_popular.sort_values(by='popularity', ascending=False).head(10000).reset_index(drop=True)\n"
   ]
  },
  {
   "attachments": {},
   "cell_type": "markdown",
   "metadata": {},
   "source": [
    "## Recomendacion de peliculas por popularidad: df_popular"
   ]
  },
  {
   "cell_type": "code",
   "execution_count": 572,
   "metadata": {},
   "outputs": [
    {
     "data": {
      "text/plain": [
       "\"from sklearn.feature_extraction.text import TfidfVectorizer\\nfrom sklearn.metrics.pairwise import cosine_similarity\\nfrom sklearn.feature_extraction.text import HashingVectorizer\\n\\n# Aseguramos que los datos de la columna 'overview' sean strings\\ndf_popular['overview'] = df_popular['overview'].fillna('').astype('str')\\n\\n# Aseguramos que los datos de la columna 'genres' sean strings\\ndf_popular['genres'] = df_popular['genres'].apply(lambda x: ' '.join(map(str, x)) if isinstance(x, list) else '')\\n\\n# Reemplazar los valores NaN con cadenas vacías en la columna 'production_companies'\\ndf_popular['production_companies'] = df_popular['production_companies'].fillna('')\\n\\n# Convertir la columna 'production_companies' a string si es necesario\\ndf_popular['production_companies'] = df_popular['production_companies'].apply(lambda x: ' '.join(map(str, x)) if isinstance(x, list) else x)\\n\\n# Crear una nueva columna combinando las características de interés\\ndf_popular['combined_features'] = df_popular['overview'] + ' ' + df_popular['genres'] + ' ' + df_popular['production_companies']\\n\\n# Convertimos todos los textos a minúsculas para evitar duplicados\\ndf_popular['combined_features'] = df_popular['combined_features'].str.lower()\\n\\n# Inicializamos el HashingVectorizer\\nhash_vectorizer = HashingVectorizer(stop_words='english', n_features=2000)\\n\\n# Transformamos los datos\\nhash_matrix = hash_vectorizer.fit_transform(df_popular['combined_features'])\\n\\n# Calculamos la similitud del coseno\\ncosine_sim = cosine_similarity(hash_matrix)\\n\\n# Creamos un índice con los títulos de las películas\\nindices = pd.Series(df_popular.index, index=df_popular['title']).drop_duplicates()\""
      ]
     },
     "execution_count": 572,
     "metadata": {},
     "output_type": "execute_result"
    }
   ],
   "source": [
    "\"\"\"from sklearn.feature_extraction.text import TfidfVectorizer\n",
    "from sklearn.metrics.pairwise import cosine_similarity\n",
    "from sklearn.feature_extraction.text import HashingVectorizer\n",
    "\n",
    "# Aseguramos que los datos de la columna 'overview' sean strings\n",
    "df_popular['overview'] = df_popular['overview'].fillna('').astype('str')\n",
    "\n",
    "# Aseguramos que los datos de la columna 'genres' sean strings\n",
    "df_popular['genres'] = df_popular['genres'].apply(lambda x: ' '.join(map(str, x)) if isinstance(x, list) else '')\n",
    "\n",
    "# Reemplazar los valores NaN con cadenas vacías en la columna 'production_companies'\n",
    "df_popular['production_companies'] = df_popular['production_companies'].fillna('')\n",
    "\n",
    "# Convertir la columna 'production_companies' a string si es necesario\n",
    "df_popular['production_companies'] = df_popular['production_companies'].apply(lambda x: ' '.join(map(str, x)) if isinstance(x, list) else x)\n",
    "\n",
    "# Crear una nueva columna combinando las características de interés\n",
    "df_popular['combined_features'] = df_popular['overview'] + ' ' + df_popular['genres'] + ' ' + df_popular['production_companies']\n",
    "\n",
    "# Convertimos todos los textos a minúsculas para evitar duplicados\n",
    "df_popular['combined_features'] = df_popular['combined_features'].str.lower()\n",
    "\n",
    "# Inicializamos el HashingVectorizer\n",
    "hash_vectorizer = HashingVectorizer(stop_words='english', n_features=2000)\n",
    "\n",
    "# Transformamos los datos\n",
    "hash_matrix = hash_vectorizer.fit_transform(df_popular['combined_features'])\n",
    "\n",
    "# Calculamos la similitud del coseno\n",
    "cosine_sim = cosine_similarity(hash_matrix)\n",
    "\n",
    "# Creamos un índice con los títulos de las películas\n",
    "indices = pd.Series(df_popular.index, index=df_popular['title']).drop_duplicates()\"\"\""
   ]
  },
  {
   "cell_type": "code",
   "execution_count": 573,
   "metadata": {},
   "outputs": [
    {
     "data": {
      "text/plain": [
       "'def recomendacion2(title, cosine_sim=cosine_sim):\\n    if title not in df_popular[\\'title\\'].values:\\n        return \\'La película no se encuentra en el conjunto de datos de muestra.\\'\\n    else:\\n        # Obtiene el índice de la película que coincide con el título\\n        idx = indices[title]\\n\\n        # Obtiene las puntuaciones de similitud de todas las películas con la película dada\\n        sim_scores = list(enumerate(cosine_sim[idx]))\\n\\n        # Ordena las películas en función de las puntuaciones de similitud\\n        sim_scores = sorted(sim_scores, key=lambda x: x[1], reverse=True)\\n\\n        # Obtiene las puntuaciones de las 5 películas más similares\\n        sim_scores = sim_scores[1:6]\\n\\n        # Obtiene los índices de las películas\\n        movie_indices = [i[0] for i in sim_scores]\\n\\n        # Devuelve las 5 películas más similares\\n        return df_popular[\\'title\\'].iloc[movie_indices]\\n\\nprint(recomendacion2(\"Toy Story\"))\\nrecomendacion2(\"Jumanji\")\\nprint(recomendacion2(\"Titanic\"))'"
      ]
     },
     "execution_count": 573,
     "metadata": {},
     "output_type": "execute_result"
    }
   ],
   "source": [
    "\"\"\"def recomendacion2(title, cosine_sim=cosine_sim):\n",
    "    if title not in df_popular['title'].values:\n",
    "        return 'La película no se encuentra en el conjunto de datos de muestra.'\n",
    "    else:\n",
    "        # Obtiene el índice de la película que coincide con el título\n",
    "        idx = indices[title]\n",
    "\n",
    "        # Obtiene las puntuaciones de similitud de todas las películas con la película dada\n",
    "        sim_scores = list(enumerate(cosine_sim[idx]))\n",
    "\n",
    "        # Ordena las películas en función de las puntuaciones de similitud\n",
    "        sim_scores = sorted(sim_scores, key=lambda x: x[1], reverse=True)\n",
    "\n",
    "        # Obtiene las puntuaciones de las 5 películas más similares\n",
    "        sim_scores = sim_scores[1:6]\n",
    "\n",
    "        # Obtiene los índices de las películas\n",
    "        movie_indices = [i[0] for i in sim_scores]\n",
    "\n",
    "        # Devuelve las 5 películas más similares\n",
    "        return df_popular['title'].iloc[movie_indices]\n",
    "\n",
    "print(recomendacion2(\"Toy Story\"))\n",
    "recomendacion2(\"Jumanji\")\n",
    "print(recomendacion2(\"Titanic\"))\"\"\""
   ]
  },
  {
   "attachments": {},
   "cell_type": "markdown",
   "metadata": {},
   "source": [
    "## df_popular:\n",
    "* Este DataFrame parece dar recomendaciones más variadas. En algunos casos, las películas recomendadas parecen tener poco en común con la película original (por ejemplo, las recomendaciones para \"Titanic\" y \"Avatar\"). Sin embargo, para \"Toy Story\", las recomendaciones son muy relevantes ya que todas son de la misma franquicia o de cortos relacionados."
   ]
  },
  {
   "attachments": {},
   "cell_type": "markdown",
   "metadata": {},
   "source": [
    "Recomendacion de peliculas por vote_Average"
   ]
  },
  {
   "cell_type": "code",
   "execution_count": 574,
   "metadata": {},
   "outputs": [],
   "source": [
    "df_highly_rated = df_highly_rated.sort_values(by='popularity', ascending=False).head(10000).reset_index(drop=True)\n"
   ]
  },
  {
   "cell_type": "code",
   "execution_count": 575,
   "metadata": {},
   "outputs": [
    {
     "data": {
      "text/plain": [
       "(10000, 18)"
      ]
     },
     "execution_count": 575,
     "metadata": {},
     "output_type": "execute_result"
    }
   ],
   "source": [
    "df_highly_rated.shape"
   ]
  },
  {
   "cell_type": "code",
   "execution_count": 576,
   "metadata": {},
   "outputs": [],
   "source": [
    "from sklearn.feature_extraction.text import TfidfVectorizer\n",
    "from sklearn.metrics.pairwise import cosine_similarity\n",
    "from sklearn.feature_extraction.text import HashingVectorizer\n",
    "\n",
    "# Aseguramos que los datos de la columna 'overview' sean strings\n",
    "df_highly_rated['overview'] = df_highly_rated['overview'].fillna('').astype('str')\n",
    "\n",
    "# Aseguramos que los datos de la columna 'genres' sean strings\n",
    "df_highly_rated['genres'] = df_highly_rated['genres'].apply(lambda x: ' '.join(map(str, x)) if isinstance(x, list) else '')\n",
    "\n",
    "# Reemplazar los valores NaN con cadenas vacías en la columna 'production_companies'\n",
    "df_highly_rated['production_companies'] = df_highly_rated['production_companies'].fillna('')\n",
    "\n",
    "# Convertir la columna 'production_companies' a string si es necesario\n",
    "df_highly_rated['production_companies'] = df_highly_rated['production_companies'].apply(lambda x: ' '.join(map(str, x)) if isinstance(x, list) else x)\n",
    "\n",
    "# Crear una nueva columna combinando las características de interés\n",
    "df_highly_rated['combined_features'] = df_highly_rated['overview'] + ' ' + df_highly_rated['genres'] + ' ' + df_highly_rated['production_companies']\n",
    "\n",
    "# Convertimos todos los textos a minúsculas para evitar duplicados\n",
    "df_highly_rated['combined_features'] = df_highly_rated['combined_features'].str.lower()\n",
    "\n",
    "# Inicializamos el HashingVectorizer\n",
    "hash_vectorizer = HashingVectorizer(stop_words='english', n_features=2000)\n",
    "\n",
    "# Transformamos los datos\n",
    "hash_matrix = hash_vectorizer.fit_transform(df_highly_rated['combined_features'])\n",
    "\n",
    "# Calculamos la similitud del coseno\n",
    "cosine_sim = cosine_similarity(hash_matrix)\n",
    "\n",
    "# Creamos un índice con los títulos de las películas\n",
    "indices = pd.Series(df_highly_rated.index, index=df_highly_rated['title']).drop_duplicates()"
   ]
  },
  {
   "cell_type": "code",
   "execution_count": 577,
   "metadata": {},
   "outputs": [
    {
     "name": "stdout",
     "output_type": "stream",
     "text": [
      "205              Toy Story 3\n",
      "190              Toy Story 2\n",
      "700        Hawaiian Vacation\n",
      "9498             Cheburashka\n",
      "9547    Hemo The Magnificent\n",
      "Name: title, dtype: object\n",
      "5275       Princes and Princesses\n",
      "325                      Stardust\n",
      "997     The City of Lost Children\n",
      "840            Dancer in the Dark\n",
      "1386                  Melancholia\n",
      "Name: title, dtype: object\n",
      "6329                X-Men: First Class\n",
      "22      Rise of the Planet of the Apes\n",
      "67          X-Men: Days of Future Past\n",
      "115                    Minority Report\n",
      "11                     The Maze Runner\n",
      "Name: title, dtype: object\n",
      "541                                    Room\n",
      "1882                         Cinderella Man\n",
      "176     The Curious Case of Benjamin Button\n",
      "11                          The Maze Runner\n",
      "5628                      This Is My Affair\n",
      "Name: title, dtype: object\n"
     ]
    }
   ],
   "source": [
    "def recomendacion(title, cosine_sim=cosine_sim):\n",
    "    if title not in df_highly_rated['title'].values:\n",
    "        return 'La película no se encuentra en el conjunto de datos de muestra.'\n",
    "    else:\n",
    "        # Obtiene el índice de la película que coincide con el título\n",
    "        idx = indices[title]\n",
    "\n",
    "        # Obtiene las puntuaciones de similitud de todas las películas con la película dada\n",
    "        sim_scores = list(enumerate(cosine_sim[idx]))\n",
    "\n",
    "        # Ordena las películas en función de las puntuaciones de similitud\n",
    "        sim_scores = sorted(sim_scores, key=lambda x: x[1], reverse=True)\n",
    "\n",
    "        # Obtiene las puntuaciones de las 5 películas más similares\n",
    "        sim_scores = sim_scores[1:6]\n",
    "\n",
    "        # Obtiene los índices de las películas\n",
    "        movie_indices = [i[0] for i in sim_scores]\n",
    "\n",
    "        # Devuelve las 5 películas más similares\n",
    "        return df_highly_rated['title'].iloc[movie_indices]\n",
    "\n",
    "\n",
    "\n",
    "\n",
    "print(recomendacion(\"Toy Story\"))\n",
    "print(recomendacion(\"Jumanji\"))\n",
    "print(recomendacion(\"Avatar\"))\n",
    "print(recomendacion(\"Titanic\"))"
   ]
  },
  {
   "attachments": {},
   "cell_type": "markdown",
   "metadata": {},
   "source": [
    "## df_highly_rated: \n",
    "* Este DataFrame parece dar recomendaciones más consistentes. Las películas recomendadas tienden a ser altamente valoradas y, en algunos casos, parecen compartir similitudes temáticas o de género con la película original (por ejemplo, las recomendaciones para \"Avatar\" y \"Jumanji\")."
   ]
  }
 ],
 "metadata": {
  "kernelspec": {
   "display_name": "Proyecto1-gJG8LYw3",
   "language": "python",
   "name": "python3"
  },
  "language_info": {
   "codemirror_mode": {
    "name": "ipython",
    "version": 3
   },
   "file_extension": ".py",
   "mimetype": "text/x-python",
   "name": "python",
   "nbconvert_exporter": "python",
   "pygments_lexer": "ipython3",
   "version": "3.11.1"
  },
  "orig_nbformat": 4
 },
 "nbformat": 4,
 "nbformat_minor": 2
}
